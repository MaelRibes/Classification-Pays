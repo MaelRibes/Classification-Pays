{
 "cells": [
  {
   "cell_type": "code",
   "execution_count": 20,
   "metadata": {
    "collapsed": true,
    "ExecuteTime": {
     "start_time": "2023-04-22T12:11:34.639482Z",
     "end_time": "2023-04-22T12:11:35.378669Z"
    }
   },
   "outputs": [],
   "source": [
    "import math\n",
    "from turtle import color\n",
    "import seaborn as sn\n",
    "import matplotlib.pyplot as plt\n",
    "import plotly.express as px\n",
    "import pandas as pd\n",
    "import numpy as np\n",
    "from sklearn.pipeline import Pipeline\n",
    "from sklearn.preprocessing import MinMaxScaler, StandardScaler"
   ]
  },
  {
   "cell_type": "code",
   "execution_count": 21,
   "outputs": [],
   "source": [
    "df = pd.read_csv(\"data/Country-data.csv\")\n",
    "df_data_dic = pd.read_csv(\"data/data-dictionary.csv\")\n",
    "print(df.to_string())"
   ],
   "metadata": {
    "collapsed": false,
    "ExecuteTime": {
     "start_time": "2023-04-22T12:11:34.639482Z",
     "end_time": "2023-04-22T12:11:36.032479Z"
    }
   }
  },
  {
   "cell_type": "code",
   "execution_count": 22,
   "outputs": [],
   "source": [
    "mean_res = [None]\n",
    "var_res = [None]\n",
    "st_dev_res = [None]\n",
    "for col_name in df.iloc[:, 1:]:\n",
    "    mean_res.append(np.mean(df[col_name]))\n",
    "    var_res.append(np.var(df[col_name]))\n",
    "    st_dev_res.append(np.sqrt(np.var(df[col_name])))"
   ],
   "metadata": {
    "collapsed": false,
    "ExecuteTime": {
     "start_time": "2023-04-22T12:11:34.639482Z",
     "end_time": "2023-04-22T12:11:36.051634Z"
    }
   }
  },
  {
   "cell_type": "code",
   "execution_count": 23,
   "outputs": [],
   "source": [
    "#On crée les nouvelles colonnes pour ajouté de nouvelle donnée au csv\n",
    "df_data_dic[\"Mean\"] = mean_res\n",
    "df_data_dic[\"Variance\"] = var_res\n",
    "df_data_dic[\"Standard Deviation\"] = st_dev_res\n",
    "\n",
    "print(df_data_dic)\n",
    "#df_data_dic.to_csv(\"data/data-dictionary.csv\")"
   ],
   "metadata": {
    "collapsed": false,
    "ExecuteTime": {
     "start_time": "2023-04-22T12:11:34.639482Z",
     "end_time": "2023-04-22T12:11:36.231089Z"
    }
   }
  },
  {
   "cell_type": "code",
   "execution_count": 24,
   "outputs": [],
   "source": [
    "import seaborn as sns\n",
    "import matplotlib.pyplot as plt\n",
    "import numpy as np\n",
    "\n",
    "# Calculer la matrice de corrélation\n",
    "mat_corr = df.iloc[:, 1:].corr()\n",
    "\n",
    "# Créer un masque pour la moitié inférieure\n",
    "mask = np.triu(np.ones_like(mat_corr, dtype=bool))\n",
    "\n",
    "# Définir une colormap personnalisée\n",
    "cmap = sns.diverging_palette(10, 220, as_cmap=True)\n",
    "\n",
    "# Créer la heatmap avec le masque et la colormap personnalisée\n",
    "sns.heatmap(mat_corr, mask=mask, annot=True, cmap=\"vlag\",center=0)\n",
    "\n",
    "# Afficher la figure\n",
    "plt.show()"
   ],
   "metadata": {
    "collapsed": false,
    "ExecuteTime": {
     "start_time": "2023-04-22T12:11:34.640488Z",
     "end_time": "2023-04-22T12:11:39.869539Z"
    }
   }
  },
  {
   "cell_type": "code",
   "execution_count": 25,
   "outputs": [],
   "source": [
    "px.histogram(df.sort_values('child_mort',ascending=False), x='country', y='child_mort')"
   ],
   "metadata": {
    "collapsed": false,
    "ExecuteTime": {
     "start_time": "2023-04-22T12:11:34.641491Z",
     "end_time": "2023-04-22T12:11:40.214211Z"
    }
   }
  },
  {
   "cell_type": "code",
   "execution_count": 26,
   "outputs": [],
   "source": [
    "def view_distribution(df,feature,is_ascending):\n",
    "    px.histogram(df.sort_values(feature,ascending=is_ascending).head(10), x='country', y=feature).show()"
   ],
   "metadata": {
    "collapsed": false,
    "ExecuteTime": {
     "start_time": "2023-04-22T12:11:34.641491Z",
     "end_time": "2023-04-22T12:11:40.285776Z"
    }
   }
  },
  {
   "cell_type": "code",
   "execution_count": 27,
   "outputs": [],
   "source": [
    "view_distribution(df,'exports',False)"
   ],
   "metadata": {
    "collapsed": false,
    "ExecuteTime": {
     "start_time": "2023-04-22T12:11:34.641491Z",
     "end_time": "2023-04-22T12:11:40.617043Z"
    }
   }
  },
  {
   "cell_type": "code",
   "execution_count": 28,
   "outputs": [],
   "source": [
    "# Créer un pipeline de prétraitement de données\n",
    "from sklearn.decomposition import PCA\n",
    "\n",
    "pipeline = Pipeline([\n",
    "    #('minmax', MinMaxScaler()),  # Etape 1 : mise à l'échelle des données\n",
    "    ('standard', StandardScaler())  # Etape 2 : standardisation des données\n",
    "])\n",
    "\n",
    "donnees_pretraitees = pipeline.fit_transform(df.iloc[:, 1:])\n",
    "\n",
    "df_pretraite = pd.DataFrame(donnees_pretraitees, columns=df.columns[1:], index=df.index)\n",
    "print(df_pretraite.to_string())"
   ],
   "metadata": {
    "collapsed": false,
    "ExecuteTime": {
     "start_time": "2023-04-22T12:11:34.641491Z",
     "end_time": "2023-04-22T12:11:40.803043Z"
    }
   }
  },
  {
   "cell_type": "code",
   "execution_count": 29,
   "outputs": [],
   "source": [
    "pca = PCA(n_components=0.95)\n",
    "pca.fit(df_pretraite)\n",
    "\n",
    "# Get the explained variance ratios for the selected components\n",
    "variance_ratios = pca.explained_variance_ratio_\n",
    "\n",
    "plt.figure()\n",
    "plt.scatter(pca.transform(df_pretraite)[:, 0], pca.transform(df_pretraite)[:, 1])\n",
    "plt.xlabel('First principal component ({}% of variance)'.format(round(variance_ratios[0]*100, 2)))\n",
    "plt.ylabel('Second principal component ({}% of variance)'.format(round(variance_ratios[1]*100, 2)))\n",
    "plt.grid(False)"
   ],
   "metadata": {
    "collapsed": false,
    "ExecuteTime": {
     "start_time": "2023-04-22T12:11:34.641491Z",
     "end_time": "2023-04-22T12:11:43.159357Z"
    }
   }
  },
  {
   "cell_type": "code",
   "execution_count": 29,
   "outputs": [],
   "source": [],
   "metadata": {
    "collapsed": false,
    "ExecuteTime": {
     "start_time": "2023-04-22T12:11:34.641491Z",
     "end_time": "2023-04-22T12:11:43.159357Z"
    }
   }
  }
 ],
 "metadata": {
  "kernelspec": {
   "display_name": "Python 3",
   "language": "python",
   "name": "python3"
  },
  "language_info": {
   "codemirror_mode": {
    "name": "ipython",
    "version": 2
   },
   "file_extension": ".py",
   "mimetype": "text/x-python",
   "name": "python",
   "nbconvert_exporter": "python",
   "pygments_lexer": "ipython2",
   "version": "2.7.6"
  }
 },
 "nbformat": 4,
 "nbformat_minor": 0
}
