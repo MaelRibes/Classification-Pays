{
 "cells": [
  {
   "cell_type": "code",
   "execution_count": 197,
   "metadata": {
    "collapsed": true
   },
   "outputs": [],
   "source": [
    "import math\n",
    "from turtle import color\n",
    "import seaborn as sn\n",
    "import matplotlib.pyplot as plt\n",
    "import plotly.express as px\n",
    "import pandas as pd\n",
    "import numpy as np"
   ]
  },
  {
   "cell_type": "code",
   "execution_count": 198,
   "outputs": [
    {
     "name": "stdout",
     "output_type": "stream",
     "text": [
      "                            country  child_mort  exports  health   imports  income  inflation  life_expec  total_fer    gdpp\n",
      "0                       Afghanistan        90.2   10.000    7.58   44.9000    1610      9.440        56.2       5.82     553\n",
      "1                           Albania        16.6   28.000    6.55   48.6000    9930      4.490        76.3       1.65    4090\n",
      "2                           Algeria        27.3   38.400    4.17   31.4000   12900     16.100        76.5       2.89    4460\n",
      "3                            Angola       119.0   62.300    2.85   42.9000    5900     22.400        60.1       6.16    3530\n",
      "4               Antigua and Barbuda        10.3   45.500    6.03   58.9000   19100      1.440        76.8       2.13   12200\n",
      "5                         Argentina        14.5   18.900    8.10   16.0000   18700     20.900        75.8       2.37   10300\n",
      "6                           Armenia        18.1   20.800    4.40   45.3000    6700      7.770        73.3       1.69    3220\n",
      "7                         Australia         4.8   19.800    8.73   20.9000   41400      1.160        82.0       1.93   51900\n",
      "8                           Austria         4.3   51.300   11.00   47.8000   43200      0.873        80.5       1.44   46900\n",
      "9                        Azerbaijan        39.2   54.300    5.88   20.7000   16000     13.800        69.1       1.92    5840\n",
      "10                          Bahamas        13.8   35.000    7.89   43.7000   22900     -0.393        73.8       1.86   28000\n",
      "11                          Bahrain         8.6   69.500    4.97   50.9000   41100      7.440        76.0       2.16   20700\n",
      "12                       Bangladesh        49.4   16.000    3.52   21.8000    2440      7.140        70.4       2.33     758\n",
      "13                         Barbados        14.2   39.500    7.97   48.7000   15300      0.321        76.7       1.78   16000\n",
      "14                          Belarus         5.5   51.400    5.61   64.5000   16200     15.100        70.4       1.49    6030\n",
      "15                          Belgium         4.5   76.400   10.70   74.7000   41100      1.880        80.0       1.86   44400\n",
      "16                           Belize        18.8   58.200    5.20   57.5000    7880      1.140        71.4       2.71    4340\n",
      "17                            Benin       111.0   23.800    4.10   37.2000    1820      0.885        61.8       5.36     758\n",
      "18                           Bhutan        42.7   42.500    5.20   70.7000    6420      5.990        72.1       2.38    2180\n",
      "19                          Bolivia        46.6   41.200    4.84   34.3000    5410      8.780        71.6       3.20    1980\n",
      "20           Bosnia and Herzegovina         6.9   29.700   11.10   51.3000    9720      1.400        76.8       1.31    4610\n",
      "21                         Botswana        52.5   43.600    8.30   51.3000   13300      8.920        57.1       2.88    6350\n",
      "22                           Brazil        19.8   10.700    9.01   11.8000   14500      8.410        74.2       1.80   11200\n",
      "23                           Brunei        10.5   67.400    2.84   28.0000   80600     16.700        77.1       1.84   35300\n",
      "24                         Bulgaria        10.8   50.200    6.87   53.0000   15300      1.110        73.9       1.57    6840\n",
      "25                     Burkina Faso       116.0   19.200    6.74   29.6000    1430      6.810        57.9       5.87     575\n",
      "26                          Burundi        93.6    8.920   11.60   39.2000     764     12.300        57.7       6.26     231\n",
      "27                         Cambodia        44.4   54.100    5.68   59.5000    2520      3.120        66.1       2.88     786\n",
      "28                         Cameroon       108.0   22.200    5.13   27.0000    2660      1.910        57.3       5.11    1310\n",
      "29                           Canada         5.6   29.100   11.30   31.0000   40700      2.870        81.3       1.63   47400\n",
      "30                       Cape Verde        26.5   32.700    4.09   61.8000    5830      0.505        72.5       2.67    3310\n",
      "31         Central African Republic       149.0   11.800    3.98   26.5000     888      2.010        47.5       5.21     446\n",
      "32                             Chad       150.0   36.800    4.53   43.5000    1930      6.390        56.5       6.59     897\n",
      "33                            Chile         8.7   37.700    7.96   31.3000   19400      8.960        79.1       1.88   12900\n",
      "34                            China        15.7   26.300    5.07   22.6000    9530      6.940        74.6       1.59    4560\n",
      "35                         Colombia        18.6   15.900    7.59   17.8000   10900      3.860        76.4       2.01    6250\n",
      "36                          Comoros        88.2   16.500    4.51   51.7000    1410      3.870        65.9       4.75     769\n",
      "37                 Congo, Dem. Rep.       116.0   41.100    7.91   49.6000     609     20.800        57.5       6.54     334\n",
      "38                      Congo, Rep.        63.9   85.100    2.46   54.7000    5190     20.700        60.4       4.95    2740\n",
      "39                       Costa Rica        10.2   33.200   10.90   35.0000   13000      6.570        80.4       1.92    8200\n",
      "40                    Cote d'Ivoire       111.0   50.600    5.30   43.3000    2690      5.390        56.3       5.27    1220\n",
      "41                          Croatia         5.5   37.600    7.76   38.1000   20100      0.821        76.3       1.55   13500\n",
      "42                           Cyprus         3.6   50.200    5.97   57.5000   33900      2.010        79.9       1.42   30800\n",
      "43                   Czech Republic         3.4   66.000    7.88   62.9000   28300     -1.430        77.5       1.51   19800\n",
      "44                          Denmark         4.1   50.500   11.40   43.6000   44000      3.220        79.5       1.87   58000\n",
      "45               Dominican Republic        34.4   22.700    6.22   33.3000   11100      5.440        74.6       2.60    5450\n",
      "46                          Ecuador        25.1   27.900    8.06   32.4000    9350      7.470        76.7       2.66    4660\n",
      "47                            Egypt        29.1   21.300    4.66   26.6000    9860     10.100        70.5       3.19    2600\n",
      "48                      El Salvador        19.2   26.900    6.91   46.6000    7300      2.650        74.1       2.27    2990\n",
      "49                Equatorial Guinea       111.0   85.800    4.48   58.9000   33700     24.900        60.9       5.21   17100\n",
      "50                          Eritrea        55.2    4.790    2.66   23.3000    1420     11.600        61.7       4.61     482\n",
      "51                          Estonia         4.5   75.100    6.03   68.7000   22700      1.740        76.0       1.72   14600\n",
      "52                             Fiji        24.1   57.800    4.86   63.9000    7350      4.230        65.3       2.67    3650\n",
      "53                          Finland         3.0   38.700    8.95   37.4000   39800      0.351        80.0       1.87   46200\n",
      "54                           France         4.2   26.800   11.90   28.1000   36900      1.050        81.4       2.03   40600\n",
      "55                            Gabon        63.7   57.700    3.50   18.9000   15400     16.600        62.9       4.08    8750\n",
      "56                           Gambia        80.3   23.800    5.69   42.7000    1660      4.300        65.5       5.71     562\n",
      "57                          Georgia        16.5   35.000   10.10   52.8000    6730      8.550        72.8       1.92    2960\n",
      "58                          Germany         4.2   42.300   11.60   37.1000   40400      0.758        80.1       1.39   41800\n",
      "59                            Ghana        74.7   29.500    5.22   45.9000    3060     16.600        62.2       4.27    1310\n",
      "60                           Greece         3.9   22.100   10.30   30.7000   28700      0.673        80.4       1.48   26900\n",
      "61                          Grenada        14.6   23.800    5.86   49.2000   11200      0.480        71.3       2.24    7370\n",
      "62                        Guatemala        35.4   25.800    6.85   36.3000    6710      5.140        71.3       3.38    2830\n",
      "63                           Guinea       109.0   30.300    4.93   43.2000    1190     16.100        58.0       5.34     648\n",
      "64                    Guinea-Bissau       114.0   14.900    8.50   35.2000    1390      2.970        55.6       5.05     547\n",
      "65                           Guyana        37.6   51.400    5.38   79.1000    5840      5.730        65.5       2.65    3040\n",
      "66                            Haiti       208.0   15.300    6.91   64.7000    1500      5.450        32.1       3.33     662\n",
      "67                          Hungary         6.0   81.800    7.33   76.5000   22300      2.330        74.5       1.25   13100\n",
      "68                          Iceland         2.6   53.400    9.40   43.3000   38800      5.470        82.0       2.20   41900\n",
      "69                            India        58.8   22.600    4.05   27.1000    4410      8.980        66.2       2.60    1350\n",
      "70                        Indonesia        33.3   24.300    2.61   22.4000    8430     15.300        69.9       2.48    3110\n",
      "71                             Iran        19.3   24.400    5.60   19.4000   17400     15.900        74.5       1.76    6530\n",
      "72                             Iraq        36.9   39.400    8.41   34.1000   12700     16.600        67.2       4.56    4500\n",
      "73                          Ireland         4.2  103.000    9.19   86.5000   45700     -3.220        80.4       2.05   48700\n",
      "74                           Israel         4.6   35.000    7.63   32.9000   29600      1.770        81.4       3.03   30600\n",
      "75                            Italy         4.0   25.200    9.53   27.2000   36200      0.319        81.7       1.46   35800\n",
      "76                          Jamaica        18.1   31.300    4.81   49.6000    8000      9.810        74.7       2.17    4680\n",
      "77                            Japan         3.2   15.000    9.49   13.6000   35800     -1.900        82.8       1.39   44500\n",
      "78                           Jordan        21.1   48.300    8.04   69.0000    9470      8.430        75.8       3.66    3680\n",
      "79                       Kazakhstan        21.5   44.200    4.29   29.9000   20100     19.500        68.4       2.60    9070\n",
      "80                            Kenya        62.2   20.700    4.75   33.6000    2480      2.090        62.8       4.37     967\n",
      "81                         Kiribati        62.7   13.300   11.30   79.9000    1730      1.520        60.7       3.84    1490\n",
      "82                           Kuwait        10.8   66.700    2.63   30.4000   75200     11.200        78.2       2.21   38500\n",
      "83                  Kyrgyz Republic        29.6   51.600    6.18   81.7000    2790     10.000        68.5       3.10     880\n",
      "84                              Lao        78.9   35.400    4.47   49.3000    3980      9.200        63.8       3.15    1140\n",
      "85                           Latvia         7.8   53.700    6.68   55.1000   18300     -0.812        73.1       1.36   11300\n",
      "86                          Lebanon        10.3   35.800    7.03   60.2000   16300      0.238        79.8       1.61    8860\n",
      "87                          Lesotho        99.7   39.400   11.10  101.0000    2380      4.150        46.5       3.30    1170\n",
      "88                          Liberia        89.3   19.100   11.80   92.6000     700      5.470        60.8       5.02     327\n",
      "89                            Libya        16.6   65.600    3.88   42.1000   29600     14.200        76.1       2.41   12100\n",
      "90                        Lithuania         6.1   65.300    7.04   67.2000   21100      2.380        73.2       1.50   12000\n",
      "91                       Luxembourg         2.8  175.000    7.77  142.0000   91700      3.620        81.3       1.63  105000\n",
      "92                   Macedonia, FYR        10.4   39.800    7.09   58.1000   11400      2.040        74.0       1.47    4540\n",
      "93                       Madagascar        62.2   25.000    3.77   43.0000    1390      8.790        60.8       4.60     413\n",
      "94                           Malawi        90.5   22.800    6.59   34.9000    1030     12.100        53.1       5.31     459\n",
      "95                         Malaysia         7.9   86.900    4.39   71.0000   21100      7.270        74.5       2.15    9070\n",
      "96                         Maldives        13.2   77.600    6.33   65.4000   10500      2.880        77.9       2.23    7100\n",
      "97                             Mali       137.0   22.800    4.98   35.1000    1870      4.370        59.5       6.55     708\n",
      "98                            Malta         6.8  153.000    8.65  154.0000   28300      3.830        80.3       1.36   21100\n",
      "99                       Mauritania        97.4   50.700    4.41   61.2000    3320     18.900        68.2       4.98    1200\n",
      "100                       Mauritius        15.0   51.200    6.00   62.2000   15900      1.130        73.4       1.57    8000\n",
      "101           Micronesia, Fed. Sts.        40.0   23.500   14.20   81.0000    3340      3.800        65.4       3.46    2860\n",
      "102                         Moldova        17.2   39.200   11.70   78.5000    3910     11.100        69.7       1.27    1630\n",
      "103                        Mongolia        26.1   46.700    5.44   56.7000    7710     39.200        66.2       2.64    2650\n",
      "104                      Montenegro         6.8   37.000    9.11   62.7000   14000      1.600        76.4       1.77    6680\n",
      "105                         Morocco        33.5   32.200    5.20   43.0000    6440      0.976        73.5       2.58    2830\n",
      "106                      Mozambique       101.0   31.500    5.21   46.2000     918      7.640        54.5       5.56     419\n",
      "107                         Myanmar        64.4    0.109    1.97    0.0659    3720      7.040        66.8       2.41     988\n",
      "108                         Namibia        56.0   47.800    6.78   60.7000    8460      3.560        58.6       3.60    5190\n",
      "109                           Nepal        47.0    9.580    5.25   36.4000    1990     15.100        68.3       2.61     592\n",
      "110                     Netherlands         4.5   72.000   11.90   63.6000   45500      0.848        80.7       1.79   50300\n",
      "111                     New Zealand         6.2   30.300   10.10   28.0000   32300      3.730        80.9       2.17   33700\n",
      "112                           Niger       123.0   22.200    5.16   49.1000     814      2.550        58.8       7.49     348\n",
      "113                         Nigeria       130.0   25.300    5.07   17.4000    5150    104.000        60.5       5.84    2330\n",
      "114                          Norway         3.2   39.700    9.48   28.5000   62300      5.950        81.0       1.95   87800\n",
      "115                            Oman        11.7   65.700    2.77   41.2000   45300     15.600        76.1       2.90   19300\n",
      "116                        Pakistan        92.1   13.500    2.20   19.4000    4280     10.900        65.3       3.85    1040\n",
      "117                          Panama        19.7   70.000    8.10   78.2000   15400      2.590        77.8       2.62    8080\n",
      "118                        Paraguay        24.1   55.100    5.87   51.5000    7290      6.100        74.1       2.73    3230\n",
      "119                            Peru        20.3   27.800    5.08   23.8000    9960      5.710        77.9       2.54    5020\n",
      "120                     Philippines        31.9   34.800    3.61   36.6000    5600      4.220        69.0       3.16    2130\n",
      "121                          Poland         6.0   40.100    7.46   42.1000   21800      1.660        76.3       1.41   12600\n",
      "122                        Portugal         3.9   29.900   11.00   37.4000   27200      0.643        79.8       1.39   22500\n",
      "123                           Qatar         9.0   62.300    1.81   23.8000  125000      6.980        79.5       2.07   70300\n",
      "124                         Romania        11.5   32.600    5.58   38.8000   17800      3.530        73.7       1.59    8230\n",
      "125                          Russia        10.0   29.200    5.08   21.1000   23100     14.200        69.2       1.57   10700\n",
      "126                          Rwanda        63.6   12.000   10.50   30.0000    1350      2.610        64.6       4.51     563\n",
      "127                           Samoa        18.9   29.200    6.47   53.1000    5400      1.720        71.5       4.34    3450\n",
      "128                    Saudi Arabia        15.7   49.600    4.29   33.0000   45400     17.200        75.1       2.96   19300\n",
      "129                         Senegal        66.8   24.900    5.66   40.3000    2180      1.850        64.0       5.06    1000\n",
      "130                          Serbia         7.6   32.900   10.40   47.9000   12700      5.880        74.7       1.40    5410\n",
      "131                      Seychelles        14.4   93.800    3.40  108.0000   20400     -4.210        73.4       2.17   10800\n",
      "132                    Sierra Leone       160.0   16.800   13.10   34.5000    1220     17.200        55.0       5.20     399\n",
      "133                       Singapore         2.8  200.000    3.96  174.0000   72100     -0.046        82.7       1.15   46600\n",
      "134                 Slovak Republic         7.0   76.300    8.79   77.8000   25200      0.485        75.5       1.43   16600\n",
      "135                        Slovenia         3.2   64.300    9.41   62.9000   28700     -0.987        79.5       1.57   23400\n",
      "136                 Solomon Islands        28.1   49.300    8.55   81.2000    1780      6.810        61.7       4.24    1290\n",
      "137                    South Africa        53.7   28.600    8.94   27.4000   12000      6.350        54.3       2.59    7280\n",
      "138                     South Korea         4.1   49.400    6.93   46.2000   30400      3.160        80.1       1.23   22100\n",
      "139                           Spain         3.8   25.500    9.54   26.8000   32500      0.160        81.9       1.37   30700\n",
      "140                       Sri Lanka        11.2   19.600    2.94   26.8000    8560     22.800        74.4       2.20    2810\n",
      "141  St. Vincent and the Grenadines        20.7   26.900    4.47   57.1000    9920      4.440        71.6       2.07    6230\n",
      "142                           Sudan        76.7   19.700    6.32   17.2000    3370     19.600        66.3       4.88    1480\n",
      "143                        Suriname        24.1   52.500    7.01   38.4000   14200      7.200        70.3       2.52    8300\n",
      "144                          Sweden         3.0   46.200    9.63   40.7000   42900      0.991        81.5       1.98   52100\n",
      "145                     Switzerland         4.5   64.000   11.50   53.3000   55500      0.317        82.2       1.52   74600\n",
      "146                      Tajikistan        52.4   14.900    5.98   58.6000    2110     12.500        69.6       3.51     738\n",
      "147                        Tanzania        71.9   18.700    6.01   29.1000    2090      9.250        59.3       5.43     702\n",
      "148                        Thailand        14.9   66.500    3.88   60.8000   13500      4.080        76.6       1.55    5080\n",
      "149                     Timor-Leste        62.6    2.200    9.12   27.8000    1850     26.500        71.1       6.23    3600\n",
      "150                            Togo        90.3   40.200    7.65   57.3000    1210      1.180        58.7       4.87     488\n",
      "151                           Tonga        17.4   12.400    5.07   60.3000    4980      3.680        69.9       3.91    3550\n",
      "152                         Tunisia        17.4   50.500    6.21   55.3000   10400      3.820        76.9       2.14    4140\n",
      "153                          Turkey        19.1   20.400    6.74   25.5000   18000      7.010        78.2       2.15   10700\n",
      "154                    Turkmenistan        62.0   76.300    2.50   44.5000    9940      2.310        67.9       2.83    4440\n",
      "155                          Uganda        81.0   17.100    9.01   28.6000    1540     10.600        56.8       6.15     595\n",
      "156                         Ukraine        11.7   47.100    7.72   51.1000    7820     13.400        70.4       1.44    2970\n",
      "157            United Arab Emirates         8.6   77.700    3.66   63.6000   57600     12.500        76.5       1.87   35000\n",
      "158                  United Kingdom         5.2   28.200    9.64   30.8000   36200      1.570        80.3       1.92   38900\n",
      "159                   United States         7.3   12.400   17.90   15.8000   49400      1.220        78.7       1.93   48400\n",
      "160                         Uruguay        10.6   26.300    8.35   25.4000   17100      4.910        76.4       2.08   11900\n",
      "161                      Uzbekistan        36.3   31.700    5.81   28.5000    4240     16.500        68.8       2.34    1380\n",
      "162                         Vanuatu        29.2   46.600    5.25   52.7000    2950      2.620        63.0       3.50    2970\n",
      "163                       Venezuela        17.1   28.500    4.91   17.6000   16500     45.900        75.4       2.47   13500\n",
      "164                         Vietnam        23.3   72.000    6.84   80.2000    4490     12.100        73.1       1.95    1310\n",
      "165                           Yemen        56.3   30.000    5.18   34.4000    4480     23.600        67.5       4.67    1310\n",
      "166                          Zambia        83.1   37.000    5.89   30.9000    3280     14.000        52.0       5.40    1460\n"
     ]
    }
   ],
   "source": [
    "df = pd.read_csv(\"data/Country-data.csv\")\n",
    "df_data_dic = pd.read_csv(\"data/data-dictionary.csv\")\n",
    "print(df.to_string())"
   ],
   "metadata": {
    "collapsed": false
   }
  },
  {
   "cell_type": "code",
   "execution_count": 199,
   "outputs": [],
   "source": [
    "mean_res = [None]\n",
    "var_res = [None]\n",
    "st_dev_res = [None]\n",
    "for col_name in df.iloc[:, 1:]:\n",
    "    mean_res.append(np.mean(df[col_name]))\n",
    "    var_res.append(np.var(df[col_name]))\n",
    "    st_dev_res.append(np.sqrt(np.var(df[col_name])))"
   ],
   "metadata": {
    "collapsed": false
   }
  },
  {
   "cell_type": "code",
   "execution_count": 200,
   "outputs": [
    {
     "name": "stdout",
     "output_type": "stream",
     "text": [
      "   Unnamed: 0 Column Name                                        Description   \n",
      "0           0     country                                Name of the country  \\\n",
      "1           1  child_mort  Death of children under 5 years of age per 100...   \n",
      "2           2     exports  Exports of goods and services per capita. Give...   \n",
      "3           3      health  Total health spending per capita. Given as %ag...   \n",
      "4           4     imports  Imports of goods and services per capita. Give...   \n",
      "5           5      Income                              Net income per person   \n",
      "6           6   Inflation  The measurement of the annual growth rate of t...   \n",
      "7           7  life_expec  The average number of years a new born child w...   \n",
      "8           8   total_fer  The number of children that would be born to e...   \n",
      "9           9        gdpp  The GDP per capita. Calculated as the Total GD...   \n",
      "\n",
      "           Mean      Variance  Standard Deviation  \n",
      "0           NaN           NaN                 NaN  \n",
      "1     38.270060  1.616684e+03           40.208005  \n",
      "2     41.108976  7.469188e+02           27.329815  \n",
      "3      6.815689  7.499936e+00            2.738601  \n",
      "4     46.890215  5.825946e+02           24.136996  \n",
      "5  17144.688623  3.694185e+08        19220.262267  \n",
      "6      7.781832  1.110707e+02           10.539008  \n",
      "7     70.555689  7.861492e+01            8.866506  \n",
      "8      2.947964  2.278011e+00            1.509308  \n",
      "9  12964.155689  3.339298e+08        18273.746050  \n"
     ]
    }
   ],
   "source": [
    "#On crée les nouvelles colonnes pour ajouté de nouvelle donnée au csv\n",
    "df_data_dic[\"Mean\"] = mean_res\n",
    "df_data_dic[\"Variance\"] = var_res\n",
    "df_data_dic[\"Standard Deviation\"] = st_dev_res\n",
    "\n",
    "print(df_data_dic)\n",
    "#df_data_dic.to_csv(\"data/data-dictionary.csv\")"
   ],
   "metadata": {
    "collapsed": false
   }
  },
  {
   "cell_type": "code",
   "execution_count": 201,
   "outputs": [
    {
     "data": {
      "text/plain": "<Figure size 640x480 with 2 Axes>",
      "image/png": "[encoded data removed]"
     },
     "metadata": {},
     "output_type": "display_data"
    }
   ],
   "source": [
    "import seaborn as sns\n",
    "import matplotlib.pyplot as plt\n",
    "import numpy as np\n",
    "\n",
    "# Calculer la matrice de corrélation\n",
    "mat_corr = df.iloc[:, 1:].corr()\n",
    "\n",
    "# Créer un masque pour la moitié inférieure\n",
    "mask = np.triu(np.ones_like(mat_corr, dtype=bool))\n",
    "\n",
    "# Définir une colormap personnalisée\n",
    "cmap = sns.diverging_palette(10, 220, as_cmap=True)\n",
    "\n",
    "# Créer la heatmap avec le masque et la colormap personnalisée\n",
    "sns.heatmap(mat_corr, mask=mask, annot=True, cmap=\"vlag\",center=0)\n",
    "\n",
    "# Afficher la figure\n",
    "plt.show()\n"
   ],
   "metadata": {
    "collapsed": false
   }
  },
  {
   "cell_type": "code",
   "execution_count": 202,
   "outputs": [
    {
     "data": {
      "application/vnd.plotly.v1+json": {
       "data": [
        {
         "alignmentgroup": "True",
         "bingroup": "x",
         "histfunc": "sum",
         "hovertemplate": "country=%{x}<br>sum of child_mort=%{y}<extra></extra>",
         "legendgroup": "",
         "marker": {
          "color": "#636efa",
          "pattern": {
           "shape": ""
          }
         },
         "name": "",
         "offsetgroup": "",
         "orientation": "v",
         "showlegend": false,
         "x": [
          "Haiti",
          "Sierra Leone",
          "Chad",
          "Central African Republic",
          "Mali",
          "Nigeria",
          "Niger",
          "Angola",
          "Burkina Faso",
          "Congo, Dem. Rep.",
          "Guinea-Bissau",
          "Benin",
          "Cote d'Ivoire",
          "Equatorial Guinea",
          "Guinea",
          "Cameroon",
          "Mozambique",
          "Lesotho",
          "Mauritania",
          "Burundi",
          "Pakistan",
          "Malawi",
          "Togo",
          "Afghanistan",
          "Liberia",
          "Comoros",
          "Zambia",
          "Uganda",
          "Gambia",
          "Lao",
          "Sudan",
          "Ghana",
          "Tanzania",
          "Senegal",
          "Myanmar",
          "Congo, Rep.",
          "Gabon",
          "Rwanda",
          "Kiribati",
          "Timor-Leste",
          "Madagascar",
          "Kenya",
          "Turkmenistan",
          "India",
          "Yemen",
          "Namibia",
          "Eritrea",
          "South Africa",
          "Botswana",
          "Tajikistan",
          "Bangladesh",
          "Nepal",
          "Bolivia",
          "Cambodia",
          "Bhutan",
          "Micronesia, Fed. Sts.",
          "Azerbaijan",
          "Guyana",
          "Iraq",
          "Uzbekistan",
          "Guatemala",
          "Dominican Republic",
          "Morocco",
          "Indonesia",
          "Philippines",
          "Kyrgyz Republic",
          "Vanuatu",
          "Egypt",
          "Solomon Islands",
          "Algeria",
          "Cape Verde",
          "Mongolia",
          "Ecuador",
          "Fiji",
          "Suriname",
          "Paraguay",
          "Vietnam",
          "Kazakhstan",
          "Jordan",
          "St. Vincent and the Grenadines",
          "Peru",
          "Brazil",
          "Panama",
          "Iran",
          "El Salvador",
          "Turkey",
          "Samoa",
          "Belize",
          "Colombia",
          "Armenia",
          "Jamaica",
          "Tonga",
          "Tunisia",
          "Moldova",
          "Venezuela",
          "Libya",
          "Albania",
          "Georgia",
          "China",
          "Saudi Arabia",
          "Mauritius",
          "Thailand",
          "Grenada",
          "Argentina",
          "Seychelles",
          "Barbados",
          "Bahamas",
          "Maldives",
          "Ukraine",
          "Oman",
          "Romania",
          "Sri Lanka",
          "Kuwait",
          "Bulgaria",
          "Uruguay",
          "Brunei",
          "Macedonia, FYR",
          "Antigua and Barbuda",
          "Lebanon",
          "Costa Rica",
          "Russia",
          "Qatar",
          "Chile",
          "United Arab Emirates",
          "Bahrain",
          "Malaysia",
          "Latvia",
          "Serbia",
          "United States",
          "Slovak Republic",
          "Bosnia and Herzegovina",
          "Malta",
          "Montenegro",
          "New Zealand",
          "Lithuania",
          "Poland",
          "Hungary",
          "Canada",
          "Belarus",
          "Croatia",
          "United Kingdom",
          "Australia",
          "Israel",
          "Switzerland",
          "Estonia",
          "Netherlands",
          "Belgium",
          "Austria",
          "France",
          "Ireland",
          "Germany",
          "Denmark",
          "South Korea",
          "Italy",
          "Portugal",
          "Greece",
          "Spain",
          "Cyprus",
          "Czech Republic",
          "Norway",
          "Slovenia",
          "Japan",
          "Finland",
          "Sweden",
          "Singapore",
          "Luxembourg",
          "Iceland"
         ],
         "xaxis": "x",
         "y": [
          208.0,
          160.0,
          150.0,
          149.0,
          137.0,
          130.0,
          123.0,
          119.0,
          116.0,
          116.0,
          114.0,
          111.0,
          111.0,
          111.0,
          109.0,
          108.0,
          101.0,
          99.7,
          97.4,
          93.6,
          92.1,
          90.5,
          90.3,
          90.2,
          89.3,
          88.2,
          83.1,
          81.0,
          80.3,
          78.9,
          76.7,
          74.7,
          71.9,
          66.8,
          64.4,
          63.9,
          63.7,
          63.6,
          62.7,
          62.6,
          62.2,
          62.2,
          62.0,
          58.8,
          56.3,
          56.0,
          55.2,
          53.7,
          52.5,
          52.4,
          49.4,
          47.0,
          46.6,
          44.4,
          42.7,
          40.0,
          39.2,
          37.6,
          36.9,
          36.3,
          35.4,
          34.4,
          33.5,
          33.3,
          31.9,
          29.6,
          29.2,
          29.1,
          28.1,
          27.3,
          26.5,
          26.1,
          25.1,
          24.1,
          24.1,
          24.1,
          23.3,
          21.5,
          21.1,
          20.7,
          20.3,
          19.8,
          19.7,
          19.3,
          19.2,
          19.1,
          18.9,
          18.8,
          18.6,
          18.1,
          18.1,
          17.4,
          17.4,
          17.2,
          17.1,
          16.6,
          16.6,
          16.5,
          15.7,
          15.7,
          15.0,
          14.9,
          14.6,
          14.5,
          14.4,
          14.2,
          13.8,
          13.2,
          11.7,
          11.7,
          11.5,
          11.2,
          10.8,
          10.8,
          10.6,
          10.5,
          10.4,
          10.3,
          10.3,
          10.2,
          10.0,
          9.0,
          8.7,
          8.6,
          8.6,
          7.9,
          7.8,
          7.6,
          7.3,
          7.0,
          6.9,
          6.8,
          6.8,
          6.2,
          6.1,
          6.0,
          6.0,
          5.6,
          5.5,
          5.5,
          5.2,
          4.8,
          4.6,
          4.5,
          4.5,
          4.5,
          4.5,
          4.3,
          4.2,
          4.2,
          4.2,
          4.1,
          4.1,
          4.0,
          3.9,
          3.9,
          3.8,
          3.6,
          3.4,
          3.2,
          3.2,
          3.2,
          3.0,
          3.0,
          2.8,
          2.8,
          2.6
         ],
         "yaxis": "y",
         "type": "histogram"
        }
       ],
       "layout": {
        "template": {
         "data": {
          "histogram2dcontour": [
           {
            "type": "histogram2dcontour",
            "colorbar": {
             "outlinewidth": 0,
             "ticks": ""
            },
            "colorscale": [
             [
              0.0,
              "#0d0887"
             ],
             [
              0.1111111111111111,
              "#46039f"
             ],
             [
              0.2222222222222222,
              "#7201a8"
             ],
             [
              0.3333333333333333,
              "#9c179e"
             ],
             [
              0.4444444444444444,
              "#bd3786"
             ],
             [
              0.5555555555555556,
              "#d8576b"
             ],
             [
              0.6666666666666666,
              "#ed7953"
             ],
             [
              0.7777777777777778,
              "#fb9f3a"
             ],
             [
              0.8888888888888888,
              "#fdca26"
             ],
             [
              1.0,
              "#f0f921"
             ]
            ]
           }
          ],
          "choropleth": [
           {
            "type": "choropleth",
            "colorbar": {
             "outlinewidth": 0,
             "ticks": ""
            }
           }
          ],
          "histogram2d": [
           {
            "type": "histogram2d",
            "colorbar": {
             "outlinewidth": 0,
             "ticks": ""
            },
            "colorscale": [
             [
              0.0,
              "#0d0887"
             ],
             [
              0.1111111111111111,
              "#46039f"
             ],
             [
              0.2222222222222222,
              "#7201a8"
             ],
             [
              0.3333333333333333,
              "#9c179e"
             ],
             [
              0.4444444444444444,
              "#bd3786"
             ],
             [
              0.5555555555555556,
              "#d8576b"
             ],
             [
              0.6666666666666666,
              "#ed7953"
             ],
             [
              0.7777777777777778,
              "#fb9f3a"
             ],
             [
              0.8888888888888888,
              "#fdca26"
             ],
             [
              1.0,
              "#f0f921"
             ]
            ]
           }
          ],
          "heatmap": [
           {
            "type": "heatmap",
            "colorbar": {
             "outlinewidth": 0,
             "ticks": ""
            },
            "colorscale": [
             [
              0.0,
              "#0d0887"
             ],
             [
              0.1111111111111111,
              "#46039f"
             ],
             [
              0.2222222222222222,
              "#7201a8"
             ],
             [
              0.3333333333333333,
              "#9c179e"
             ],
             [
              0.4444444444444444,
              "#bd3786"
             ],
             [
              0.5555555555555556,
              "#d8576b"
             ],
             [
              0.6666666666666666,
              "#ed7953"
             ],
             [
              0.7777777777777778,
              "#fb9f3a"
             ],
             [
              0.8888888888888888,
              "#fdca26"
             ],
             [
              1.0,
              "#f0f921"
             ]
            ]
           }
          ],
          "heatmapgl": [
           {
            "type": "heatmapgl",
            "colorbar": {
             "outlinewidth": 0,
             "ticks": ""
            },
            "colorscale": [
             [
              0.0,
              "#0d0887"
             ],
             [
              0.1111111111111111,
              "#46039f"
             ],
             [
              0.2222222222222222,
              "#7201a8"
             ],
             [
              0.3333333333333333,
              "#9c179e"
             ],
             [
              0.4444444444444444,
              "#bd3786"
             ],
             [
              0.5555555555555556,
              "#d8576b"
             ],
             [
              0.6666666666666666,
              "#ed7953"
             ],
             [
              0.7777777777777778,
              "#fb9f3a"
             ],
             [
              0.8888888888888888,
              "#fdca26"
             ],
             [
              1.0,
              "#f0f921"
             ]
            ]
           }
          ],
          "contourcarpet": [
           {
            "type": "contourcarpet",
            "colorbar": {
             "outlinewidth": 0,
             "ticks": ""
            }
           }
          ],
          "contour": [
           {
            "type": "contour",
            "colorbar": {
             "outlinewidth": 0,
             "ticks": ""
            },
            "colorscale": [
             [
              0.0,
              "#0d0887"
             ],
             [
              0.1111111111111111,
              "#46039f"
             ],
             [
              0.2222222222222222,
              "#7201a8"
             ],
             [
              0.3333333333333333,
              "#9c179e"
             ],
             [
              0.4444444444444444,
              "#bd3786"
             ],
             [
              0.5555555555555556,
              "#d8576b"
             ],
             [
              0.6666666666666666,
              "#ed7953"
             ],
             [
              0.7777777777777778,
              "#fb9f3a"
             ],
             [
              0.8888888888888888,
              "#fdca26"
             ],
             [
              1.0,
              "#f0f921"
             ]
            ]
           }
          ],
          "surface": [
           {
            "type": "surface",
            "colorbar": {
             "outlinewidth": 0,
             "ticks": ""
            },
            "colorscale": [
             [
              0.0,
              "#0d0887"
             ],
             [
              0.1111111111111111,
              "#46039f"
             ],
             [
              0.2222222222222222,
              "#7201a8"
             ],
             [
              0.3333333333333333,
              "#9c179e"
             ],
             [
              0.4444444444444444,
              "#bd3786"
             ],
             [
              0.5555555555555556,
              "#d8576b"
             ],
             [
              0.6666666666666666,
              "#ed7953"
             ],
             [
              0.7777777777777778,
              "#fb9f3a"
             ],
             [
              0.8888888888888888,
              "#fdca26"
             ],
             [
              1.0,
              "#f0f921"
             ]
            ]
           }
          ],
          "mesh3d": [
           {
            "type": "mesh3d",
            "colorbar": {
             "outlinewidth": 0,
             "ticks": ""
            }
           }
          ],
          "scatter": [
           {
            "fillpattern": {
             "fillmode": "overlay",
             "size": 10,
             "solidity": 0.2
            },
            "type": "scatter"
           }
          ],
          "parcoords": [
           {
            "type": "parcoords",
            "line": {
             "colorbar": {
              "outlinewidth": 0,
              "ticks": ""
             }
            }
           }
          ],
          "scatterpolargl": [
           {
            "type": "scatterpolargl",
            "marker": {
             "colorbar": {
              "outlinewidth": 0,
              "ticks": ""
             }
            }
           }
          ],
          "bar": [
           {
            "error_x": {
             "color": "#2a3f5f"
            },
            "error_y": {
             "color": "#2a3f5f"
            },
            "marker": {
             "line": {
              "color": "#E5ECF6",
              "width": 0.5
             },
             "pattern": {
              "fillmode": "overlay",
              "size": 10,
              "solidity": 0.2
             }
            },
            "type": "bar"
           }
          ],
          "scattergeo": [
           {
            "type": "scattergeo",
            "marker": {
             "colorbar": {
              "outlinewidth": 0,
              "ticks": ""
             }
            }
           }
          ],
          "scatterpolar": [
           {
            "type": "scatterpolar",
            "marker": {
             "colorbar": {
              "outlinewidth": 0,
              "ticks": ""
             }
            }
           }
          ],
          "histogram": [
           {
            "marker": {
             "pattern": {
              "fillmode": "overlay",
              "size": 10,
              "solidity": 0.2
             }
            },
            "type": "histogram"
           }
          ],
          "scattergl": [
           {
            "type": "scattergl",
            "marker": {
             "colorbar": {
              "outlinewidth": 0,
              "ticks": ""
             }
            }
           }
          ],
          "scatter3d": [
           {
            "type": "scatter3d",
            "line": {
             "colorbar": {
              "outlinewidth": 0,
              "ticks": ""
             }
            },
            "marker": {
             "colorbar": {
              "outlinewidth": 0,
              "ticks": ""
             }
            }
           }
          ],
          "scattermapbox": [
           {
            "type": "scattermapbox",
            "marker": {
             "colorbar": {
              "outlinewidth": 0,
              "ticks": ""
             }
            }
           }
          ],
          "scatterternary": [
           {
            "type": "scatterternary",
            "marker": {
             "colorbar": {
              "outlinewidth": 0,
              "ticks": ""
             }
            }
           }
          ],
          "scattercarpet": [
           {
            "type": "scattercarpet",
            "marker": {
             "colorbar": {
              "outlinewidth": 0,
              "ticks": ""
             }
            }
           }
          ],
          "carpet": [
           {
            "aaxis": {
             "endlinecolor": "#2a3f5f",
             "gridcolor": "white",
             "linecolor": "white",
             "minorgridcolor": "white",
             "startlinecolor": "#2a3f5f"
            },
            "baxis": {
             "endlinecolor": "#2a3f5f",
             "gridcolor": "white",
             "linecolor": "white",
             "minorgridcolor": "white",
             "startlinecolor": "#2a3f5f"
            },
            "type": "carpet"
           }
          ],
          "table": [
           {
            "cells": {
             "fill": {
              "color": "#EBF0F8"
             },
             "line": {
              "color": "white"
             }
            },
            "header": {
             "fill": {
              "color": "#C8D4E3"
             },
             "line": {
              "color": "white"
             }
            },
            "type": "table"
           }
          ],
          "barpolar": [
           {
            "marker": {
             "line": {
              "color": "#E5ECF6",
              "width": 0.5
             },
             "pattern": {
              "fillmode": "overlay",
              "size": 10,
              "solidity": 0.2
             }
            },
            "type": "barpolar"
           }
          ],
          "pie": [
           {
            "automargin": true,
            "type": "pie"
           }
          ]
         },
         "layout": {
          "autotypenumbers": "strict",
          "colorway": [
           "#636efa",
           "#EF553B",
           "#00cc96",
           "#ab63fa",
           "#FFA15A",
           "#19d3f3",
           "#FF6692",
           "#B6E880",
           "#FF97FF",
           "#FECB52"
          ],
          "font": {
           "color": "#2a3f5f"
          },
          "hovermode": "closest",
          "hoverlabel": {
           "align": "left"
          },
          "paper_bgcolor": "white",
          "plot_bgcolor": "#E5ECF6",
          "polar": {
           "bgcolor": "#E5ECF6",
           "angularaxis": {
            "gridcolor": "white",
            "linecolor": "white",
            "ticks": ""
           },
           "radialaxis": {
            "gridcolor": "white",
            "linecolor": "white",
            "ticks": ""
           }
          },
          "ternary": {
           "bgcolor": "#E5ECF6",
           "aaxis": {
            "gridcolor": "white",
            "linecolor": "white",
            "ticks": ""
           },
           "baxis": {
            "gridcolor": "white",
            "linecolor": "white",
            "ticks": ""
           },
           "caxis": {
            "gridcolor": "white",
            "linecolor": "white",
            "ticks": ""
           }
          },
          "coloraxis": {
           "colorbar": {
            "outlinewidth": 0,
            "ticks": ""
           }
          },
          "colorscale": {
           "sequential": [
            [
             0.0,
             "#0d0887"
            ],
            [
             0.1111111111111111,
             "#46039f"
            ],
            [
             0.2222222222222222,
             "#7201a8"
            ],
            [
             0.3333333333333333,
             "#9c179e"
            ],
            [
             0.4444444444444444,
             "#bd3786"
            ],
            [
             0.5555555555555556,
             "#d8576b"
            ],
            [
             0.6666666666666666,
             "#ed7953"
            ],
            [
             0.7777777777777778,
             "#fb9f3a"
            ],
            [
             0.8888888888888888,
             "#fdca26"
            ],
            [
             1.0,
             "#f0f921"
            ]
           ],
           "sequentialminus": [
            [
             0.0,
             "#0d0887"
            ],
            [
             0.1111111111111111,
             "#46039f"
            ],
            [
             0.2222222222222222,
             "#7201a8"
            ],
            [
             0.3333333333333333,
             "#9c179e"
            ],
            [
             0.4444444444444444,
             "#bd3786"
            ],
            [
             0.5555555555555556,
             "#d8576b"
            ],
            [
             0.6666666666666666,
             "#ed7953"
            ],
            [
             0.7777777777777778,
             "#fb9f3a"
            ],
            [
             0.8888888888888888,
             "#fdca26"
            ],
            [
             1.0,
             "#f0f921"
            ]
           ],
           "diverging": [
            [
             0,
             "#8e0152"
            ],
            [
             0.1,
             "#c51b7d"
            ],
            [
             0.2,
             "#de77ae"
            ],
            [
             0.3,
             "#f1b6da"
            ],
            [
             0.4,
             "#fde0ef"
            ],
            [
             0.5,
             "#f7f7f7"
            ],
            [
             0.6,
             "#e6f5d0"
            ],
            [
             0.7,
             "#b8e186"
            ],
            [
             0.8,
             "#7fbc41"
            ],
            [
             0.9,
             "#4d9221"
            ],
            [
             1,
             "#276419"
            ]
           ]
          },
          "xaxis": {
           "gridcolor": "white",
           "linecolor": "white",
           "ticks": "",
           "title": {
            "standoff": 15
           },
           "zerolinecolor": "white",
           "automargin": true,
           "zerolinewidth": 2
          },
          "yaxis": {
           "gridcolor": "white",
           "linecolor": "white",
           "ticks": "",
           "title": {
            "standoff": 15
           },
           "zerolinecolor": "white",
           "automargin": true,
           "zerolinewidth": 2
          },
          "scene": {
           "xaxis": {
            "backgroundcolor": "#E5ECF6",
            "gridcolor": "white",
            "linecolor": "white",
            "showbackground": true,
            "ticks": "",
            "zerolinecolor": "white",
            "gridwidth": 2
           },
           "yaxis": {
            "backgroundcolor": "#E5ECF6",
            "gridcolor": "white",
            "linecolor": "white",
            "showbackground": true,
            "ticks": "",
            "zerolinecolor": "white",
            "gridwidth": 2
           },
           "zaxis": {
            "backgroundcolor": "#E5ECF6",
            "gridcolor": "white",
            "linecolor": "white",
            "showbackground": true,
            "ticks": "",
            "zerolinecolor": "white",
            "gridwidth": 2
           }
          },
          "shapedefaults": {
           "line": {
            "color": "#2a3f5f"
           }
          },
          "annotationdefaults": {
           "arrowcolor": "#2a3f5f",
           "arrowhead": 0,
           "arrowwidth": 1
          },
          "geo": {
           "bgcolor": "white",
           "landcolor": "#E5ECF6",
           "subunitcolor": "white",
           "showland": true,
           "showlakes": true,
           "lakecolor": "white"
          },
          "title": {
           "x": 0.05
          },
          "mapbox": {
           "style": "light"
          }
         }
        },
        "xaxis": {
         "anchor": "y",
         "domain": [
          0.0,
          1.0
         ],
         "title": {
          "text": "country"
         }
        },
        "yaxis": {
         "anchor": "x",
         "domain": [
          0.0,
          1.0
         ],
         "title": {
          "text": "sum of child_mort"
         }
        },
        "legend": {
         "tracegroupgap": 0
        },
        "margin": {
         "t": 60
        },
        "barmode": "relative"
       },
       "config": {
        "plotlyServerURL": "https://plot.ly"
       }
      },
      "text/html": "<div>                            <div id=\"a0febb84-3dd0-4d22-bdc5-47efda388aac\" class=\"plotly-graph-div\" style=\"height:525px; width:100%;\"></div>            <script type=\"text/javascript\">                require([\"plotly\"], function(Plotly) {                    window.PLOTLYENV=window.PLOTLYENV || {};                                    if (document.getElementById(\"a0febb84-3dd0-4d22-bdc5-47efda388aac\")) {                    Plotly.newPlot(                        \"a0febb84-3dd0-4d22-bdc5-47efda388aac\",                        [{\"alignmentgroup\":\"True\",\"bingroup\":\"x\",\"histfunc\":\"sum\",\"hovertemplate\":\"country=%{x}<br>sum of child_mort=%{y}<extra></extra>\",\"legendgroup\":\"\",\"marker\":{\"color\":\"#636efa\",\"pattern\":{\"shape\":\"\"}},\"name\":\"\",\"offsetgroup\":\"\",\"orientation\":\"v\",\"showlegend\":false,\"x\":[\"Haiti\",\"Sierra Leone\",\"Chad\",\"Central African Republic\",\"Mali\",\"Nigeria\",\"Niger\",\"Angola\",\"Burkina Faso\",\"Congo, Dem. Rep.\",\"Guinea-Bissau\",\"Benin\",\"Cote d'Ivoire\",\"Equatorial Guinea\",\"Guinea\",\"Cameroon\",\"Mozambique\",\"Lesotho\",\"Mauritania\",\"Burundi\",\"Pakistan\",\"Malawi\",\"Togo\",\"Afghanistan\",\"Liberia\",\"Comoros\",\"Zambia\",\"Uganda\",\"Gambia\",\"Lao\",\"Sudan\",\"Ghana\",\"Tanzania\",\"Senegal\",\"Myanmar\",\"Congo, Rep.\",\"Gabon\",\"Rwanda\",\"Kiribati\",\"Timor-Leste\",\"Madagascar\",\"Kenya\",\"Turkmenistan\",\"India\",\"Yemen\",\"Namibia\",\"Eritrea\",\"South Africa\",\"Botswana\",\"Tajikistan\",\"Bangladesh\",\"Nepal\",\"Bolivia\",\"Cambodia\",\"Bhutan\",\"Micronesia, Fed. Sts.\",\"Azerbaijan\",\"Guyana\",\"Iraq\",\"Uzbekistan\",\"Guatemala\",\"Dominican Republic\",\"Morocco\",\"Indonesia\",\"Philippines\",\"Kyrgyz Republic\",\"Vanuatu\",\"Egypt\",\"Solomon Islands\",\"Algeria\",\"Cape Verde\",\"Mongolia\",\"Ecuador\",\"Fiji\",\"Suriname\",\"Paraguay\",\"Vietnam\",\"Kazakhstan\",\"Jordan\",\"St. Vincent and the Grenadines\",\"Peru\",\"Brazil\",\"Panama\",\"Iran\",\"El Salvador\",\"Turkey\",\"Samoa\",\"Belize\",\"Colombia\",\"Armenia\",\"Jamaica\",\"Tonga\",\"Tunisia\",\"Moldova\",\"Venezuela\",\"Libya\",\"Albania\",\"Georgia\",\"China\",\"Saudi Arabia\",\"Mauritius\",\"Thailand\",\"Grenada\",\"Argentina\",\"Seychelles\",\"Barbados\",\"Bahamas\",\"Maldives\",\"Ukraine\",\"Oman\",\"Romania\",\"Sri Lanka\",\"Kuwait\",\"Bulgaria\",\"Uruguay\",\"Brunei\",\"Macedonia, FYR\",\"Antigua and Barbuda\",\"Lebanon\",\"Costa Rica\",\"Russia\",\"Qatar\",\"Chile\",\"United Arab Emirates\",\"Bahrain\",\"Malaysia\",\"Latvia\",\"Serbia\",\"United States\",\"Slovak Republic\",\"Bosnia and Herzegovina\",\"Malta\",\"Montenegro\",\"New Zealand\",\"Lithuania\",\"Poland\",\"Hungary\",\"Canada\",\"Belarus\",\"Croatia\",\"United Kingdom\",\"Australia\",\"Israel\",\"Switzerland\",\"Estonia\",\"Netherlands\",\"Belgium\",\"Austria\",\"France\",\"Ireland\",\"Germany\",\"Denmark\",\"South Korea\",\"Italy\",\"Portugal\",\"Greece\",\"Spain\",\"Cyprus\",\"Czech Republic\",\"Norway\",\"Slovenia\",\"Japan\",\"Finland\",\"Sweden\",\"Singapore\",\"Luxembourg\",\"Iceland\"],\"xaxis\":\"x\",\"y\":[208.0,160.0,150.0,149.0,137.0,130.0,123.0,119.0,116.0,116.0,114.0,111.0,111.0,111.0,109.0,108.0,101.0,99.7,97.4,93.6,92.1,90.5,90.3,90.2,89.3,88.2,83.1,81.0,80.3,78.9,76.7,74.7,71.9,66.8,64.4,63.9,63.7,63.6,62.7,62.6,62.2,62.2,62.0,58.8,56.3,56.0,55.2,53.7,52.5,52.4,49.4,47.0,46.6,44.4,42.7,40.0,39.2,37.6,36.9,36.3,35.4,34.4,33.5,33.3,31.9,29.6,29.2,29.1,28.1,27.3,26.5,26.1,25.1,24.1,24.1,24.1,23.3,21.5,21.1,20.7,20.3,19.8,19.7,19.3,19.2,19.1,18.9,18.8,18.6,18.1,18.1,17.4,17.4,17.2,17.1,16.6,16.6,16.5,15.7,15.7,15.0,14.9,14.6,14.5,14.4,14.2,13.8,13.2,11.7,11.7,11.5,11.2,10.8,10.8,10.6,10.5,10.4,10.3,10.3,10.2,10.0,9.0,8.7,8.6,8.6,7.9,7.8,7.6,7.3,7.0,6.9,6.8,6.8,6.2,6.1,6.0,6.0,5.6,5.5,5.5,5.2,4.8,4.6,4.5,4.5,4.5,4.5,4.3,4.2,4.2,4.2,4.1,4.1,4.0,3.9,3.9,3.8,3.6,3.4,3.2,3.2,3.2,3.0,3.0,2.8,2.8,2.6],\"yaxis\":\"y\",\"type\":\"histogram\"}],                        {\"template\":{\"data\":{\"histogram2dcontour\":[{\"type\":\"histogram2dcontour\",\"colorbar\":{\"outlinewidth\":0,\"ticks\":\"\"},\"colorscale\":[[0.0,\"#0d0887\"],[0.1111111111111111,\"#46039f\"],[0.2222222222222222,\"#7201a8\"],[0.3333333333333333,\"#9c179e\"],[0.4444444444444444,\"#bd3786\"],[0.5555555555555556,\"#d8576b\"],[0.6666666666666666,\"#ed7953\"],[0.7777777777777778,\"#fb9f3a\"],[0.8888888888888888,\"#fdca26\"],[1.0,\"#f0f921\"]]}],\"choropleth\":[{\"type\":\"choropleth\",\"colorbar\":{\"outlinewidth\":0,\"ticks\":\"\"}}],\"histogram2d\":[{\"type\":\"histogram2d\",\"colorbar\":{\"outlinewidth\":0,\"ticks\":\"\"},\"colorscale\":[[0.0,\"#0d0887\"],[0.1111111111111111,\"#46039f\"],[0.2222222222222222,\"#7201a8\"],[0.3333333333333333,\"#9c179e\"],[0.4444444444444444,\"#bd3786\"],[0.5555555555555556,\"#d8576b\"],[0.6666666666666666,\"#ed7953\"],[0.7777777777777778,\"#fb9f3a\"],[0.8888888888888888,\"#fdca26\"],[1.0,\"#f0f921\"]]}],\"heatmap\":[{\"type\":\"heatmap\",\"colorbar\":{\"outlinewidth\":0,\"ticks\":\"\"},\"colorscale\":[[0.0,\"#0d0887\"],[0.1111111111111111,\"#46039f\"],[0.2222222222222222,\"#7201a8\"],[0.3333333333333333,\"#9c179e\"],[0.4444444444444444,\"#bd3786\"],[0.5555555555555556,\"#d8576b\"],[0.6666666666666666,\"#ed7953\"],[0.7777777777777778,\"#fb9f3a\"],[0.8888888888888888,\"#fdca26\"],[1.0,\"#f0f921\"]]}],\"heatmapgl\":[{\"type\":\"heatmapgl\",\"colorbar\":{\"outlinewidth\":0,\"ticks\":\"\"},\"colorscale\":[[0.0,\"#0d0887\"],[0.1111111111111111,\"#46039f\"],[0.2222222222222222,\"#7201a8\"],[0.3333333333333333,\"#9c179e\"],[0.4444444444444444,\"#bd3786\"],[0.5555555555555556,\"#d8576b\"],[0.6666666666666666,\"#ed7953\"],[0.7777777777777778,\"#fb9f3a\"],[0.8888888888888888,\"#fdca26\"],[1.0,\"#f0f921\"]]}],\"contourcarpet\":[{\"type\":\"contourcarpet\",\"colorbar\":{\"outlinewidth\":0,\"ticks\":\"\"}}],\"contour\":[{\"type\":\"contour\",\"colorbar\":{\"outlinewidth\":0,\"ticks\":\"\"},\"colorscale\":[[0.0,\"#0d0887\"],[0.1111111111111111,\"#46039f\"],[0.2222222222222222,\"#7201a8\"],[0.3333333333333333,\"#9c179e\"],[0.4444444444444444,\"#bd3786\"],[0.5555555555555556,\"#d8576b\"],[0.6666666666666666,\"#ed7953\"],[0.7777777777777778,\"#fb9f3a\"],[0.8888888888888888,\"#fdca26\"],[1.0,\"#f0f921\"]]}],\"surface\":[{\"type\":\"surface\",\"colorbar\":{\"outlinewidth\":0,\"ticks\":\"\"},\"colorscale\":[[0.0,\"#0d0887\"],[0.1111111111111111,\"#46039f\"],[0.2222222222222222,\"#7201a8\"],[0.3333333333333333,\"#9c179e\"],[0.4444444444444444,\"#bd3786\"],[0.5555555555555556,\"#d8576b\"],[0.6666666666666666,\"#ed7953\"],[0.7777777777777778,\"#fb9f3a\"],[0.8888888888888888,\"#fdca26\"],[1.0,\"#f0f921\"]]}],\"mesh3d\":[{\"type\":\"mesh3d\",\"colorbar\":{\"outlinewidth\":0,\"ticks\":\"\"}}],\"scatter\":[{\"fillpattern\":{\"fillmode\":\"overlay\",\"size\":10,\"solidity\":0.2},\"type\":\"scatter\"}],\"parcoords\":[{\"type\":\"parcoords\",\"line\":{\"colorbar\":{\"outlinewidth\":0,\"ticks\":\"\"}}}],\"scatterpolargl\":[{\"type\":\"scatterpolargl\",\"marker\":{\"colorbar\":{\"outlinewidth\":0,\"ticks\":\"\"}}}],\"bar\":[{\"error_x\":{\"color\":\"#2a3f5f\"},\"error_y\":{\"color\":\"#2a3f5f\"},\"marker\":{\"line\":{\"color\":\"#E5ECF6\",\"width\":0.5},\"pattern\":{\"fillmode\":\"overlay\",\"size\":10,\"solidity\":0.2}},\"type\":\"bar\"}],\"scattergeo\":[{\"type\":\"scattergeo\",\"marker\":{\"colorbar\":{\"outlinewidth\":0,\"ticks\":\"\"}}}],\"scatterpolar\":[{\"type\":\"scatterpolar\",\"marker\":{\"colorbar\":{\"outlinewidth\":0,\"ticks\":\"\"}}}],\"histogram\":[{\"marker\":{\"pattern\":{\"fillmode\":\"overlay\",\"size\":10,\"solidity\":0.2}},\"type\":\"histogram\"}],\"scattergl\":[{\"type\":\"scattergl\",\"marker\":{\"colorbar\":{\"outlinewidth\":0,\"ticks\":\"\"}}}],\"scatter3d\":[{\"type\":\"scatter3d\",\"line\":{\"colorbar\":{\"outlinewidth\":0,\"ticks\":\"\"}},\"marker\":{\"colorbar\":{\"outlinewidth\":0,\"ticks\":\"\"}}}],\"scattermapbox\":[{\"type\":\"scattermapbox\",\"marker\":{\"colorbar\":{\"outlinewidth\":0,\"ticks\":\"\"}}}],\"scatterternary\":[{\"type\":\"scatterternary\",\"marker\":{\"colorbar\":{\"outlinewidth\":0,\"ticks\":\"\"}}}],\"scattercarpet\":[{\"type\":\"scattercarpet\",\"marker\":{\"colorbar\":{\"outlinewidth\":0,\"ticks\":\"\"}}}],\"carpet\":[{\"aaxis\":{\"endlinecolor\":\"#2a3f5f\",\"gridcolor\":\"white\",\"linecolor\":\"white\",\"minorgridcolor\":\"white\",\"startlinecolor\":\"#2a3f5f\"},\"baxis\":{\"endlinecolor\":\"#2a3f5f\",\"gridcolor\":\"white\",\"linecolor\":\"white\",\"minorgridcolor\":\"white\",\"startlinecolor\":\"#2a3f5f\"},\"type\":\"carpet\"}],\"table\":[{\"cells\":{\"fill\":{\"color\":\"#EBF0F8\"},\"line\":{\"color\":\"white\"}},\"header\":{\"fill\":{\"color\":\"#C8D4E3\"},\"line\":{\"color\":\"white\"}},\"type\":\"table\"}],\"barpolar\":[{\"marker\":{\"line\":{\"color\":\"#E5ECF6\",\"width\":0.5},\"pattern\":{\"fillmode\":\"overlay\",\"size\":10,\"solidity\":0.2}},\"type\":\"barpolar\"}],\"pie\":[{\"automargin\":true,\"type\":\"pie\"}]},\"layout\":{\"autotypenumbers\":\"strict\",\"colorway\":[\"#636efa\",\"#EF553B\",\"#00cc96\",\"#ab63fa\",\"#FFA15A\",\"#19d3f3\",\"#FF6692\",\"#B6E880\",\"#FF97FF\",\"#FECB52\"],\"font\":{\"color\":\"#2a3f5f\"},\"hovermode\":\"closest\",\"hoverlabel\":{\"align\":\"left\"},\"paper_bgcolor\":\"white\",\"plot_bgcolor\":\"#E5ECF6\",\"polar\":{\"bgcolor\":\"#E5ECF6\",\"angularaxis\":{\"gridcolor\":\"white\",\"linecolor\":\"white\",\"ticks\":\"\"},\"radialaxis\":{\"gridcolor\":\"white\",\"linecolor\":\"white\",\"ticks\":\"\"}},\"ternary\":{\"bgcolor\":\"#E5ECF6\",\"aaxis\":{\"gridcolor\":\"white\",\"linecolor\":\"white\",\"ticks\":\"\"},\"baxis\":{\"gridcolor\":\"white\",\"linecolor\":\"white\",\"ticks\":\"\"},\"caxis\":{\"gridcolor\":\"white\",\"linecolor\":\"white\",\"ticks\":\"\"}},\"coloraxis\":{\"colorbar\":{\"outlinewidth\":0,\"ticks\":\"\"}},\"colorscale\":{\"sequential\":[[0.0,\"#0d0887\"],[0.1111111111111111,\"#46039f\"],[0.2222222222222222,\"#7201a8\"],[0.3333333333333333,\"#9c179e\"],[0.4444444444444444,\"#bd3786\"],[0.5555555555555556,\"#d8576b\"],[0.6666666666666666,\"#ed7953\"],[0.7777777777777778,\"#fb9f3a\"],[0.8888888888888888,\"#fdca26\"],[1.0,\"#f0f921\"]],\"sequentialminus\":[[0.0,\"#0d0887\"],[0.1111111111111111,\"#46039f\"],[0.2222222222222222,\"#7201a8\"],[0.3333333333333333,\"#9c179e\"],[0.4444444444444444,\"#bd3786\"],[0.5555555555555556,\"#d8576b\"],[0.6666666666666666,\"#ed7953\"],[0.7777777777777778,\"#fb9f3a\"],[0.8888888888888888,\"#fdca26\"],[1.0,\"#f0f921\"]],\"diverging\":[[0,\"#8e0152\"],[0.1,\"#c51b7d\"],[0.2,\"#de77ae\"],[0.3,\"#f1b6da\"],[0.4,\"#fde0ef\"],[0.5,\"#f7f7f7\"],[0.6,\"#e6f5d0\"],[0.7,\"#b8e186\"],[0.8,\"#7fbc41\"],[0.9,\"#4d9221\"],[1,\"#276419\"]]},\"xaxis\":{\"gridcolor\":\"white\",\"linecolor\":\"white\",\"ticks\":\"\",\"title\":{\"standoff\":15},\"zerolinecolor\":\"white\",\"automargin\":true,\"zerolinewidth\":2},\"yaxis\":{\"gridcolor\":\"white\",\"linecolor\":\"white\",\"ticks\":\"\",\"title\":{\"standoff\":15},\"zerolinecolor\":\"white\",\"automargin\":true,\"zerolinewidth\":2},\"scene\":{\"xaxis\":{\"backgroundcolor\":\"#E5ECF6\",\"gridcolor\":\"white\",\"linecolor\":\"white\",\"showbackground\":true,\"ticks\":\"\",\"zerolinecolor\":\"white\",\"gridwidth\":2},\"yaxis\":{\"backgroundcolor\":\"#E5ECF6\",\"gridcolor\":\"white\",\"linecolor\":\"white\",\"showbackground\":true,\"ticks\":\"\",\"zerolinecolor\":\"white\",\"gridwidth\":2},\"zaxis\":{\"backgroundcolor\":\"#E5ECF6\",\"gridcolor\":\"white\",\"linecolor\":\"white\",\"showbackground\":true,\"ticks\":\"\",\"zerolinecolor\":\"white\",\"gridwidth\":2}},\"shapedefaults\":{\"line\":{\"color\":\"#2a3f5f\"}},\"annotationdefaults\":{\"arrowcolor\":\"#2a3f5f\",\"arrowhead\":0,\"arrowwidth\":1},\"geo\":{\"bgcolor\":\"white\",\"landcolor\":\"#E5ECF6\",\"subunitcolor\":\"white\",\"showland\":true,\"showlakes\":true,\"lakecolor\":\"white\"},\"title\":{\"x\":0.05},\"mapbox\":{\"style\":\"light\"}}},\"xaxis\":{\"anchor\":\"y\",\"domain\":[0.0,1.0],\"title\":{\"text\":\"country\"}},\"yaxis\":{\"anchor\":\"x\",\"domain\":[0.0,1.0],\"title\":{\"text\":\"sum of child_mort\"}},\"legend\":{\"tracegroupgap\":0},\"margin\":{\"t\":60},\"barmode\":\"relative\"},                        {\"responsive\": true}                    ).then(function(){\n                            \nvar gd = document.getElementById('a0febb84-3dd0-4d22-bdc5-47efda388aac');\nvar x = new MutationObserver(function (mutations, observer) {{\n        var display = window.getComputedStyle(gd).display;\n        if (!display || display === 'none') {{\n            console.log([gd, 'removed!']);\n            Plotly.purge(gd);\n            observer.disconnect();\n        }}\n}});\n\n// Listen for the removal of the full notebook cells\nvar notebookContainer = gd.closest('#notebook-container');\nif (notebookContainer) {{\n    x.observe(notebookContainer, {childList: true});\n}}\n\n// Listen for the clearing of the current output cell\nvar outputEl = gd.closest('.output');\nif (outputEl) {{\n    x.observe(outputEl, {childList: true});\n}}\n\n                        })                };                });            </script>        </div>"
     },
     "metadata": {},
     "output_type": "display_data"
    }
   ],
   "source": [
    "\n",
    "\n",
    "px.histogram(df.sort_values('child_mort',ascending=False), x='country', y='child_mort')"
   ],
   "metadata": {
    "collapsed": false
   }
  },
  {
   "cell_type": "code",
   "execution_count": 207,
   "outputs": [],
   "source": [
    "def view_distribution(df,feature,is_ascending):\n",
    "    px.histogram(df.sort_values(feature,ascending=is_ascending).head(10), x='country', y=feature).show()\n",
    "\n"
   ],
   "metadata": {
    "collapsed": false
   }
  },
  {
   "cell_type": "code",
   "execution_count": 209,
   "outputs": [
    {
     "data": {
      "application/vnd.plotly.v1+json": {
       "data": [
        {
         "alignmentgroup": "True",
         "bingroup": "x",
         "histfunc": "sum",
         "hovertemplate": "country=%{x}<br>sum of exports=%{y}<extra></extra>",
         "legendgroup": "",
         "marker": {
          "color": "#636efa",
          "pattern": {
           "shape": ""
          }
         },
         "name": "",
         "offsetgroup": "",
         "orientation": "v",
         "showlegend": false,
         "x": [
          "Singapore",
          "Luxembourg",
          "Malta",
          "Ireland",
          "Seychelles",
          "Malaysia",
          "Equatorial Guinea",
          "Congo, Rep.",
          "Hungary",
          "United Arab Emirates"
         ],
         "xaxis": "x",
         "y": [
          200.0,
          175.0,
          153.0,
          103.0,
          93.8,
          86.9,
          85.8,
          85.1,
          81.8,
          77.7
         ],
         "yaxis": "y",
         "type": "histogram"
        }
       ],
       "layout": {
        "template": {
         "data": {
          "histogram2dcontour": [
           {
            "type": "histogram2dcontour",
            "colorbar": {
             "outlinewidth": 0,
             "ticks": ""
            },
            "colorscale": [
             [
              0.0,
              "#0d0887"
             ],
             [
              0.1111111111111111,
              "#46039f"
             ],
             [
              0.2222222222222222,
              "#7201a8"
             ],
             [
              0.3333333333333333,
              "#9c179e"
             ],
             [
              0.4444444444444444,
              "#bd3786"
             ],
             [
              0.5555555555555556,
              "#d8576b"
             ],
             [
              0.6666666666666666,
              "#ed7953"
             ],
             [
              0.7777777777777778,
              "#fb9f3a"
             ],
             [
              0.8888888888888888,
              "#fdca26"
             ],
             [
              1.0,
              "#f0f921"
             ]
            ]
           }
          ],
          "choropleth": [
           {
            "type": "choropleth",
            "colorbar": {
             "outlinewidth": 0,
             "ticks": ""
            }
           }
          ],
          "histogram2d": [
           {
            "type": "histogram2d",
            "colorbar": {
             "outlinewidth": 0,
             "ticks": ""
            },
            "colorscale": [
             [
              0.0,
              "#0d0887"
             ],
             [
              0.1111111111111111,
              "#46039f"
             ],
             [
              0.2222222222222222,
              "#7201a8"
             ],
             [
              0.3333333333333333,
              "#9c179e"
             ],
             [
              0.4444444444444444,
              "#bd3786"
             ],
             [
              0.5555555555555556,
              "#d8576b"
             ],
             [
              0.6666666666666666,
              "#ed7953"
             ],
             [
              0.7777777777777778,
              "#fb9f3a"
             ],
             [
              0.8888888888888888,
              "#fdca26"
             ],
             [
              1.0,
              "#f0f921"
             ]
            ]
           }
          ],
          "heatmap": [
           {
            "type": "heatmap",
            "colorbar": {
             "outlinewidth": 0,
             "ticks": ""
            },
            "colorscale": [
             [
              0.0,
              "#0d0887"
             ],
             [
              0.1111111111111111,
              "#46039f"
             ],
             [
              0.2222222222222222,
              "#7201a8"
             ],
             [
              0.3333333333333333,
              "#9c179e"
             ],
             [
              0.4444444444444444,
              "#bd3786"
             ],
             [
              0.5555555555555556,
              "#d8576b"
             ],
             [
              0.6666666666666666,
              "#ed7953"
             ],
             [
              0.7777777777777778,
              "#fb9f3a"
             ],
             [
              0.8888888888888888,
              "#fdca26"
             ],
             [
              1.0,
              "#f0f921"
             ]
            ]
           }
          ],
          "heatmapgl": [
           {
            "type": "heatmapgl",
            "colorbar": {
             "outlinewidth": 0,
             "ticks": ""
            },
            "colorscale": [
             [
              0.0,
              "#0d0887"
             ],
             [
              0.1111111111111111,
              "#46039f"
             ],
             [
              0.2222222222222222,
              "#7201a8"
             ],
             [
              0.3333333333333333,
              "#9c179e"
             ],
             [
              0.4444444444444444,
              "#bd3786"
             ],
             [
              0.5555555555555556,
              "#d8576b"
             ],
             [
              0.6666666666666666,
              "#ed7953"
             ],
             [
              0.7777777777777778,
              "#fb9f3a"
             ],
             [
              0.8888888888888888,
              "#fdca26"
             ],
             [
              1.0,
              "#f0f921"
             ]
            ]
           }
          ],
          "contourcarpet": [
           {
            "type": "contourcarpet",
            "colorbar": {
             "outlinewidth": 0,
             "ticks": ""
            }
           }
          ],
          "contour": [
           {
            "type": "contour",
            "colorbar": {
             "outlinewidth": 0,
             "ticks": ""
            },
            "colorscale": [
             [
              0.0,
              "#0d0887"
             ],
             [
              0.1111111111111111,
              "#46039f"
             ],
             [
              0.2222222222222222,
              "#7201a8"
             ],
             [
              0.3333333333333333,
              "#9c179e"
             ],
             [
              0.4444444444444444,
              "#bd3786"
             ],
             [
              0.5555555555555556,
              "#d8576b"
             ],
             [
              0.6666666666666666,
              "#ed7953"
             ],
             [
              0.7777777777777778,
              "#fb9f3a"
             ],
             [
              0.8888888888888888,
              "#fdca26"
             ],
             [
              1.0,
              "#f0f921"
             ]
            ]
           }
          ],
          "surface": [
           {
            "type": "surface",
            "colorbar": {
             "outlinewidth": 0,
             "ticks": ""
            },
            "colorscale": [
             [
              0.0,
              "#0d0887"
             ],
             [
              0.1111111111111111,
              "#46039f"
             ],
             [
              0.2222222222222222,
              "#7201a8"
             ],
             [
              0.3333333333333333,
              "#9c179e"
             ],
             [
              0.4444444444444444,
              "#bd3786"
             ],
             [
              0.5555555555555556,
              "#d8576b"
             ],
             [
              0.6666666666666666,
              "#ed7953"
             ],
             [
              0.7777777777777778,
              "#fb9f3a"
             ],
             [
              0.8888888888888888,
              "#fdca26"
             ],
             [
              1.0,
              "#f0f921"
             ]
            ]
           }
          ],
          "mesh3d": [
           {
            "type": "mesh3d",
            "colorbar": {
             "outlinewidth": 0,
             "ticks": ""
            }
           }
          ],
          "scatter": [
           {
            "fillpattern": {
             "fillmode": "overlay",
             "size": 10,
             "solidity": 0.2
            },
            "type": "scatter"
           }
          ],
          "parcoords": [
           {
            "type": "parcoords",
            "line": {
             "colorbar": {
              "outlinewidth": 0,
              "ticks": ""
             }
            }
           }
          ],
          "scatterpolargl": [
           {
            "type": "scatterpolargl",
            "marker": {
             "colorbar": {
              "outlinewidth": 0,
              "ticks": ""
             }
            }
           }
          ],
          "bar": [
           {
            "error_x": {
             "color": "#2a3f5f"
            },
            "error_y": {
             "color": "#2a3f5f"
            },
            "marker": {
             "line": {
              "color": "#E5ECF6",
              "width": 0.5
             },
             "pattern": {
              "fillmode": "overlay",
              "size": 10,
              "solidity": 0.2
             }
            },
            "type": "bar"
           }
          ],
          "scattergeo": [
           {
            "type": "scattergeo",
            "marker": {
             "colorbar": {
              "outlinewidth": 0,
              "ticks": ""
             }
            }
           }
          ],
          "scatterpolar": [
           {
            "type": "scatterpolar",
            "marker": {
             "colorbar": {
              "outlinewidth": 0,
              "ticks": ""
             }
            }
           }
          ],
          "histogram": [
           {
            "marker": {
             "pattern": {
              "fillmode": "overlay",
              "size": 10,
              "solidity": 0.2
             }
            },
            "type": "histogram"
           }
          ],
          "scattergl": [
           {
            "type": "scattergl",
            "marker": {
             "colorbar": {
              "outlinewidth": 0,
              "ticks": ""
             }
            }
           }
          ],
          "scatter3d": [
           {
            "type": "scatter3d",
            "line": {
             "colorbar": {
              "outlinewidth": 0,
              "ticks": ""
             }
            },
            "marker": {
             "colorbar": {
              "outlinewidth": 0,
              "ticks": ""
             }
            }
           }
          ],
          "scattermapbox": [
           {
            "type": "scattermapbox",
            "marker": {
             "colorbar": {
              "outlinewidth": 0,
              "ticks": ""
             }
            }
           }
          ],
          "scatterternary": [
           {
            "type": "scatterternary",
            "marker": {
             "colorbar": {
              "outlinewidth": 0,
              "ticks": ""
             }
            }
           }
          ],
          "scattercarpet": [
           {
            "type": "scattercarpet",
            "marker": {
             "colorbar": {
              "outlinewidth": 0,
              "ticks": ""
             }
            }
           }
          ],
          "carpet": [
           {
            "aaxis": {
             "endlinecolor": "#2a3f5f",
             "gridcolor": "white",
             "linecolor": "white",
             "minorgridcolor": "white",
             "startlinecolor": "#2a3f5f"
            },
            "baxis": {
             "endlinecolor": "#2a3f5f",
             "gridcolor": "white",
             "linecolor": "white",
             "minorgridcolor": "white",
             "startlinecolor": "#2a3f5f"
            },
            "type": "carpet"
           }
          ],
          "table": [
           {
            "cells": {
             "fill": {
              "color": "#EBF0F8"
             },
             "line": {
              "color": "white"
             }
            },
            "header": {
             "fill": {
              "color": "#C8D4E3"
             },
             "line": {
              "color": "white"
             }
            },
            "type": "table"
           }
          ],
          "barpolar": [
           {
            "marker": {
             "line": {
              "color": "#E5ECF6",
              "width": 0.5
             },
             "pattern": {
              "fillmode": "overlay",
              "size": 10,
              "solidity": 0.2
             }
            },
            "type": "barpolar"
           }
          ],
          "pie": [
           {
            "automargin": true,
            "type": "pie"
           }
          ]
         },
         "layout": {
          "autotypenumbers": "strict",
          "colorway": [
           "#636efa",
           "#EF553B",
           "#00cc96",
           "#ab63fa",
           "#FFA15A",
           "#19d3f3",
           "#FF6692",
           "#B6E880",
           "#FF97FF",
           "#FECB52"
          ],
          "font": {
           "color": "#2a3f5f"
          },
          "hovermode": "closest",
          "hoverlabel": {
           "align": "left"
          },
          "paper_bgcolor": "white",
          "plot_bgcolor": "#E5ECF6",
          "polar": {
           "bgcolor": "#E5ECF6",
           "angularaxis": {
            "gridcolor": "white",
            "linecolor": "white",
            "ticks": ""
           },
           "radialaxis": {
            "gridcolor": "white",
            "linecolor": "white",
            "ticks": ""
           }
          },
          "ternary": {
           "bgcolor": "#E5ECF6",
           "aaxis": {
            "gridcolor": "white",
            "linecolor": "white",
            "ticks": ""
           },
           "baxis": {
            "gridcolor": "white",
            "linecolor": "white",
            "ticks": ""
           },
           "caxis": {
            "gridcolor": "white",
            "linecolor": "white",
            "ticks": ""
           }
          },
          "coloraxis": {
           "colorbar": {
            "outlinewidth": 0,
            "ticks": ""
           }
          },
          "colorscale": {
           "sequential": [
            [
             0.0,
             "#0d0887"
            ],
            [
             0.1111111111111111,
             "#46039f"
            ],
            [
             0.2222222222222222,
             "#7201a8"
            ],
            [
             0.3333333333333333,
             "#9c179e"
            ],
            [
             0.4444444444444444,
             "#bd3786"
            ],
            [
             0.5555555555555556,
             "#d8576b"
            ],
            [
             0.6666666666666666,
             "#ed7953"
            ],
            [
             0.7777777777777778,
             "#fb9f3a"
            ],
            [
             0.8888888888888888,
             "#fdca26"
            ],
            [
             1.0,
             "#f0f921"
            ]
           ],
           "sequentialminus": [
            [
             0.0,
             "#0d0887"
            ],
            [
             0.1111111111111111,
             "#46039f"
            ],
            [
             0.2222222222222222,
             "#7201a8"
            ],
            [
             0.3333333333333333,
             "#9c179e"
            ],
            [
             0.4444444444444444,
             "#bd3786"
            ],
            [
             0.5555555555555556,
             "#d8576b"
            ],
            [
             0.6666666666666666,
             "#ed7953"
            ],
            [
             0.7777777777777778,
             "#fb9f3a"
            ],
            [
             0.8888888888888888,
             "#fdca26"
            ],
            [
             1.0,
             "#f0f921"
            ]
           ],
           "diverging": [
            [
             0,
             "#8e0152"
            ],
            [
             0.1,
             "#c51b7d"
            ],
            [
             0.2,
             "#de77ae"
            ],
            [
             0.3,
             "#f1b6da"
            ],
            [
             0.4,
             "#fde0ef"
            ],
            [
             0.5,
             "#f7f7f7"
            ],
            [
             0.6,
             "#e6f5d0"
            ],
            [
             0.7,
             "#b8e186"
            ],
            [
             0.8,
             "#7fbc41"
            ],
            [
             0.9,
             "#4d9221"
            ],
            [
             1,
             "#276419"
            ]
           ]
          },
          "xaxis": {
           "gridcolor": "white",
           "linecolor": "white",
           "ticks": "",
           "title": {
            "standoff": 15
           },
           "zerolinecolor": "white",
           "automargin": true,
           "zerolinewidth": 2
          },
          "yaxis": {
           "gridcolor": "white",
           "linecolor": "white",
           "ticks": "",
           "title": {
            "standoff": 15
           },
           "zerolinecolor": "white",
           "automargin": true,
           "zerolinewidth": 2
          },
          "scene": {
           "xaxis": {
            "backgroundcolor": "#E5ECF6",
            "gridcolor": "white",
            "linecolor": "white",
            "showbackground": true,
            "ticks": "",
            "zerolinecolor": "white",
            "gridwidth": 2
           },
           "yaxis": {
            "backgroundcolor": "#E5ECF6",
            "gridcolor": "white",
            "linecolor": "white",
            "showbackground": true,
            "ticks": "",
            "zerolinecolor": "white",
            "gridwidth": 2
           },
           "zaxis": {
            "backgroundcolor": "#E5ECF6",
            "gridcolor": "white",
            "linecolor": "white",
            "showbackground": true,
            "ticks": "",
            "zerolinecolor": "white",
            "gridwidth": 2
           }
          },
          "shapedefaults": {
           "line": {
            "color": "#2a3f5f"
           }
          },
          "annotationdefaults": {
           "arrowcolor": "#2a3f5f",
           "arrowhead": 0,
           "arrowwidth": 1
          },
          "geo": {
           "bgcolor": "white",
           "landcolor": "#E5ECF6",
           "subunitcolor": "white",
           "showland": true,
           "showlakes": true,
           "lakecolor": "white"
          },
          "title": {
           "x": 0.05
          },
          "mapbox": {
           "style": "light"
          }
         }
        },
        "xaxis": {
         "anchor": "y",
         "domain": [
          0.0,
          1.0
         ],
         "title": {
          "text": "country"
         }
        },
        "yaxis": {
         "anchor": "x",
         "domain": [
          0.0,
          1.0
         ],
         "title": {
          "text": "sum of exports"
         }
        },
        "legend": {
         "tracegroupgap": 0
        },
        "margin": {
         "t": 60
        },
        "barmode": "relative"
       },
       "config": {
        "plotlyServerURL": "https://plot.ly"
       }
      },
      "text/html": "<div>                            <div id=\"450a9d5b-0e24-42c6-ab62-e3a78aa3fcd8\" class=\"plotly-graph-div\" style=\"height:525px; width:100%;\"></div>            <script type=\"text/javascript\">                require([\"plotly\"], function(Plotly) {                    window.PLOTLYENV=window.PLOTLYENV || {};                                    if (document.getElementById(\"450a9d5b-0e24-42c6-ab62-e3a78aa3fcd8\")) {                    Plotly.newPlot(                        \"450a9d5b-0e24-42c6-ab62-e3a78aa3fcd8\",                        [{\"alignmentgroup\":\"True\",\"bingroup\":\"x\",\"histfunc\":\"sum\",\"hovertemplate\":\"country=%{x}<br>sum of exports=%{y}<extra></extra>\",\"legendgroup\":\"\",\"marker\":{\"color\":\"#636efa\",\"pattern\":{\"shape\":\"\"}},\"name\":\"\",\"offsetgroup\":\"\",\"orientation\":\"v\",\"showlegend\":false,\"x\":[\"Singapore\",\"Luxembourg\",\"Malta\",\"Ireland\",\"Seychelles\",\"Malaysia\",\"Equatorial Guinea\",\"Congo, Rep.\",\"Hungary\",\"United Arab Emirates\"],\"xaxis\":\"x\",\"y\":[200.0,175.0,153.0,103.0,93.8,86.9,85.8,85.1,81.8,77.7],\"yaxis\":\"y\",\"type\":\"histogram\"}],                        {\"template\":{\"data\":{\"histogram2dcontour\":[{\"type\":\"histogram2dcontour\",\"colorbar\":{\"outlinewidth\":0,\"ticks\":\"\"},\"colorscale\":[[0.0,\"#0d0887\"],[0.1111111111111111,\"#46039f\"],[0.2222222222222222,\"#7201a8\"],[0.3333333333333333,\"#9c179e\"],[0.4444444444444444,\"#bd3786\"],[0.5555555555555556,\"#d8576b\"],[0.6666666666666666,\"#ed7953\"],[0.7777777777777778,\"#fb9f3a\"],[0.8888888888888888,\"#fdca26\"],[1.0,\"#f0f921\"]]}],\"choropleth\":[{\"type\":\"choropleth\",\"colorbar\":{\"outlinewidth\":0,\"ticks\":\"\"}}],\"histogram2d\":[{\"type\":\"histogram2d\",\"colorbar\":{\"outlinewidth\":0,\"ticks\":\"\"},\"colorscale\":[[0.0,\"#0d0887\"],[0.1111111111111111,\"#46039f\"],[0.2222222222222222,\"#7201a8\"],[0.3333333333333333,\"#9c179e\"],[0.4444444444444444,\"#bd3786\"],[0.5555555555555556,\"#d8576b\"],[0.6666666666666666,\"#ed7953\"],[0.7777777777777778,\"#fb9f3a\"],[0.8888888888888888,\"#fdca26\"],[1.0,\"#f0f921\"]]}],\"heatmap\":[{\"type\":\"heatmap\",\"colorbar\":{\"outlinewidth\":0,\"ticks\":\"\"},\"colorscale\":[[0.0,\"#0d0887\"],[0.1111111111111111,\"#46039f\"],[0.2222222222222222,\"#7201a8\"],[0.3333333333333333,\"#9c179e\"],[0.4444444444444444,\"#bd3786\"],[0.5555555555555556,\"#d8576b\"],[0.6666666666666666,\"#ed7953\"],[0.7777777777777778,\"#fb9f3a\"],[0.8888888888888888,\"#fdca26\"],[1.0,\"#f0f921\"]]}],\"heatmapgl\":[{\"type\":\"heatmapgl\",\"colorbar\":{\"outlinewidth\":0,\"ticks\":\"\"},\"colorscale\":[[0.0,\"#0d0887\"],[0.1111111111111111,\"#46039f\"],[0.2222222222222222,\"#7201a8\"],[0.3333333333333333,\"#9c179e\"],[0.4444444444444444,\"#bd3786\"],[0.5555555555555556,\"#d8576b\"],[0.6666666666666666,\"#ed7953\"],[0.7777777777777778,\"#fb9f3a\"],[0.8888888888888888,\"#fdca26\"],[1.0,\"#f0f921\"]]}],\"contourcarpet\":[{\"type\":\"contourcarpet\",\"colorbar\":{\"outlinewidth\":0,\"ticks\":\"\"}}],\"contour\":[{\"type\":\"contour\",\"colorbar\":{\"outlinewidth\":0,\"ticks\":\"\"},\"colorscale\":[[0.0,\"#0d0887\"],[0.1111111111111111,\"#46039f\"],[0.2222222222222222,\"#7201a8\"],[0.3333333333333333,\"#9c179e\"],[0.4444444444444444,\"#bd3786\"],[0.5555555555555556,\"#d8576b\"],[0.6666666666666666,\"#ed7953\"],[0.7777777777777778,\"#fb9f3a\"],[0.8888888888888888,\"#fdca26\"],[1.0,\"#f0f921\"]]}],\"surface\":[{\"type\":\"surface\",\"colorbar\":{\"outlinewidth\":0,\"ticks\":\"\"},\"colorscale\":[[0.0,\"#0d0887\"],[0.1111111111111111,\"#46039f\"],[0.2222222222222222,\"#7201a8\"],[0.3333333333333333,\"#9c179e\"],[0.4444444444444444,\"#bd3786\"],[0.5555555555555556,\"#d8576b\"],[0.6666666666666666,\"#ed7953\"],[0.7777777777777778,\"#fb9f3a\"],[0.8888888888888888,\"#fdca26\"],[1.0,\"#f0f921\"]]}],\"mesh3d\":[{\"type\":\"mesh3d\",\"colorbar\":{\"outlinewidth\":0,\"ticks\":\"\"}}],\"scatter\":[{\"fillpattern\":{\"fillmode\":\"overlay\",\"size\":10,\"solidity\":0.2},\"type\":\"scatter\"}],\"parcoords\":[{\"type\":\"parcoords\",\"line\":{\"colorbar\":{\"outlinewidth\":0,\"ticks\":\"\"}}}],\"scatterpolargl\":[{\"type\":\"scatterpolargl\",\"marker\":{\"colorbar\":{\"outlinewidth\":0,\"ticks\":\"\"}}}],\"bar\":[{\"error_x\":{\"color\":\"#2a3f5f\"},\"error_y\":{\"color\":\"#2a3f5f\"},\"marker\":{\"line\":{\"color\":\"#E5ECF6\",\"width\":0.5},\"pattern\":{\"fillmode\":\"overlay\",\"size\":10,\"solidity\":0.2}},\"type\":\"bar\"}],\"scattergeo\":[{\"type\":\"scattergeo\",\"marker\":{\"colorbar\":{\"outlinewidth\":0,\"ticks\":\"\"}}}],\"scatterpolar\":[{\"type\":\"scatterpolar\",\"marker\":{\"colorbar\":{\"outlinewidth\":0,\"ticks\":\"\"}}}],\"histogram\":[{\"marker\":{\"pattern\":{\"fillmode\":\"overlay\",\"size\":10,\"solidity\":0.2}},\"type\":\"histogram\"}],\"scattergl\":[{\"type\":\"scattergl\",\"marker\":{\"colorbar\":{\"outlinewidth\":0,\"ticks\":\"\"}}}],\"scatter3d\":[{\"type\":\"scatter3d\",\"line\":{\"colorbar\":{\"outlinewidth\":0,\"ticks\":\"\"}},\"marker\":{\"colorbar\":{\"outlinewidth\":0,\"ticks\":\"\"}}}],\"scattermapbox\":[{\"type\":\"scattermapbox\",\"marker\":{\"colorbar\":{\"outlinewidth\":0,\"ticks\":\"\"}}}],\"scatterternary\":[{\"type\":\"scatterternary\",\"marker\":{\"colorbar\":{\"outlinewidth\":0,\"ticks\":\"\"}}}],\"scattercarpet\":[{\"type\":\"scattercarpet\",\"marker\":{\"colorbar\":{\"outlinewidth\":0,\"ticks\":\"\"}}}],\"carpet\":[{\"aaxis\":{\"endlinecolor\":\"#2a3f5f\",\"gridcolor\":\"white\",\"linecolor\":\"white\",\"minorgridcolor\":\"white\",\"startlinecolor\":\"#2a3f5f\"},\"baxis\":{\"endlinecolor\":\"#2a3f5f\",\"gridcolor\":\"white\",\"linecolor\":\"white\",\"minorgridcolor\":\"white\",\"startlinecolor\":\"#2a3f5f\"},\"type\":\"carpet\"}],\"table\":[{\"cells\":{\"fill\":{\"color\":\"#EBF0F8\"},\"line\":{\"color\":\"white\"}},\"header\":{\"fill\":{\"color\":\"#C8D4E3\"},\"line\":{\"color\":\"white\"}},\"type\":\"table\"}],\"barpolar\":[{\"marker\":{\"line\":{\"color\":\"#E5ECF6\",\"width\":0.5},\"pattern\":{\"fillmode\":\"overlay\",\"size\":10,\"solidity\":0.2}},\"type\":\"barpolar\"}],\"pie\":[{\"automargin\":true,\"type\":\"pie\"}]},\"layout\":{\"autotypenumbers\":\"strict\",\"colorway\":[\"#636efa\",\"#EF553B\",\"#00cc96\",\"#ab63fa\",\"#FFA15A\",\"#19d3f3\",\"#FF6692\",\"#B6E880\",\"#FF97FF\",\"#FECB52\"],\"font\":{\"color\":\"#2a3f5f\"},\"hovermode\":\"closest\",\"hoverlabel\":{\"align\":\"left\"},\"paper_bgcolor\":\"white\",\"plot_bgcolor\":\"#E5ECF6\",\"polar\":{\"bgcolor\":\"#E5ECF6\",\"angularaxis\":{\"gridcolor\":\"white\",\"linecolor\":\"white\",\"ticks\":\"\"},\"radialaxis\":{\"gridcolor\":\"white\",\"linecolor\":\"white\",\"ticks\":\"\"}},\"ternary\":{\"bgcolor\":\"#E5ECF6\",\"aaxis\":{\"gridcolor\":\"white\",\"linecolor\":\"white\",\"ticks\":\"\"},\"baxis\":{\"gridcolor\":\"white\",\"linecolor\":\"white\",\"ticks\":\"\"},\"caxis\":{\"gridcolor\":\"white\",\"linecolor\":\"white\",\"ticks\":\"\"}},\"coloraxis\":{\"colorbar\":{\"outlinewidth\":0,\"ticks\":\"\"}},\"colorscale\":{\"sequential\":[[0.0,\"#0d0887\"],[0.1111111111111111,\"#46039f\"],[0.2222222222222222,\"#7201a8\"],[0.3333333333333333,\"#9c179e\"],[0.4444444444444444,\"#bd3786\"],[0.5555555555555556,\"#d8576b\"],[0.6666666666666666,\"#ed7953\"],[0.7777777777777778,\"#fb9f3a\"],[0.8888888888888888,\"#fdca26\"],[1.0,\"#f0f921\"]],\"sequentialminus\":[[0.0,\"#0d0887\"],[0.1111111111111111,\"#46039f\"],[0.2222222222222222,\"#7201a8\"],[0.3333333333333333,\"#9c179e\"],[0.4444444444444444,\"#bd3786\"],[0.5555555555555556,\"#d8576b\"],[0.6666666666666666,\"#ed7953\"],[0.7777777777777778,\"#fb9f3a\"],[0.8888888888888888,\"#fdca26\"],[1.0,\"#f0f921\"]],\"diverging\":[[0,\"#8e0152\"],[0.1,\"#c51b7d\"],[0.2,\"#de77ae\"],[0.3,\"#f1b6da\"],[0.4,\"#fde0ef\"],[0.5,\"#f7f7f7\"],[0.6,\"#e6f5d0\"],[0.7,\"#b8e186\"],[0.8,\"#7fbc41\"],[0.9,\"#4d9221\"],[1,\"#276419\"]]},\"xaxis\":{\"gridcolor\":\"white\",\"linecolor\":\"white\",\"ticks\":\"\",\"title\":{\"standoff\":15},\"zerolinecolor\":\"white\",\"automargin\":true,\"zerolinewidth\":2},\"yaxis\":{\"gridcolor\":\"white\",\"linecolor\":\"white\",\"ticks\":\"\",\"title\":{\"standoff\":15},\"zerolinecolor\":\"white\",\"automargin\":true,\"zerolinewidth\":2},\"scene\":{\"xaxis\":{\"backgroundcolor\":\"#E5ECF6\",\"gridcolor\":\"white\",\"linecolor\":\"white\",\"showbackground\":true,\"ticks\":\"\",\"zerolinecolor\":\"white\",\"gridwidth\":2},\"yaxis\":{\"backgroundcolor\":\"#E5ECF6\",\"gridcolor\":\"white\",\"linecolor\":\"white\",\"showbackground\":true,\"ticks\":\"\",\"zerolinecolor\":\"white\",\"gridwidth\":2},\"zaxis\":{\"backgroundcolor\":\"#E5ECF6\",\"gridcolor\":\"white\",\"linecolor\":\"white\",\"showbackground\":true,\"ticks\":\"\",\"zerolinecolor\":\"white\",\"gridwidth\":2}},\"shapedefaults\":{\"line\":{\"color\":\"#2a3f5f\"}},\"annotationdefaults\":{\"arrowcolor\":\"#2a3f5f\",\"arrowhead\":0,\"arrowwidth\":1},\"geo\":{\"bgcolor\":\"white\",\"landcolor\":\"#E5ECF6\",\"subunitcolor\":\"white\",\"showland\":true,\"showlakes\":true,\"lakecolor\":\"white\"},\"title\":{\"x\":0.05},\"mapbox\":{\"style\":\"light\"}}},\"xaxis\":{\"anchor\":\"y\",\"domain\":[0.0,1.0],\"title\":{\"text\":\"country\"}},\"yaxis\":{\"anchor\":\"x\",\"domain\":[0.0,1.0],\"title\":{\"text\":\"sum of exports\"}},\"legend\":{\"tracegroupgap\":0},\"margin\":{\"t\":60},\"barmode\":\"relative\"},                        {\"responsive\": true}                    ).then(function(){\n                            \nvar gd = document.getElementById('450a9d5b-0e24-42c6-ab62-e3a78aa3fcd8');\nvar x = new MutationObserver(function (mutations, observer) {{\n        var display = window.getComputedStyle(gd).display;\n        if (!display || display === 'none') {{\n            console.log([gd, 'removed!']);\n            Plotly.purge(gd);\n            observer.disconnect();\n        }}\n}});\n\n// Listen for the removal of the full notebook cells\nvar notebookContainer = gd.closest('#notebook-container');\nif (notebookContainer) {{\n    x.observe(notebookContainer, {childList: true});\n}}\n\n// Listen for the clearing of the current output cell\nvar outputEl = gd.closest('.output');\nif (outputEl) {{\n    x.observe(outputEl, {childList: true});\n}}\n\n                        })                };                });            </script>        </div>"
     },
     "metadata": {},
     "output_type": "display_data"
    }
   ],
   "source": [
    "view_distribution(df,'exports',False)\n"
   ],
   "metadata": {
    "collapsed": false
   }
  },
  {
   "cell_type": "code",
   "execution_count": 204,
   "outputs": [],
   "source": [],
   "metadata": {
    "collapsed": false
   }
  }
 ],
 "metadata": {
  "kernelspec": {
   "display_name": "Python 3",
   "language": "python",
   "name": "python3"
  },
  "language_info": {
   "codemirror_mode": {
    "name": "ipython",
    "version": 2
   },
   "file_extension": ".py",
   "mimetype": "text/x-python",
   "name": "python",
   "nbconvert_exporter": "python",
   "pygments_lexer": "ipython2",
   "version": "2.7.6"
  }
 },
 "nbformat": 4,
 "nbformat_minor": 0
}
